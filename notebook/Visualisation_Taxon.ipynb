{
   "cells": [
    {
     "cell_type": "markdown",
     "metadata": {},
     "source": [
      "# Partie visualisation"
     ]
    },
    {
     "cell_type": "markdown",
     "metadata": {
      "tags": []
     },
     "source": [
      "## Création du dataframe"
     ]
    },
    {
     "cell_type": "code",
     "execution_count": 1,
     "metadata": {
      "tags": []
     },
     "outputs": [
      {
       "name": "stdout",
       "output_type": "stream",
       "text": [
        "Collecting wordcloud\n",
        "  Using cached wordcloud-1.9.1.1-cp310-cp310-manylinux_2_17_x86_64.manylinux2014_x86_64.whl (455 kB)\n",
        "Requirement already satisfied: pandas in /opt/conda/lib/python3.10/site-packages (2.0.1)\n",
        "Requirement already satisfied: pyspark in /usr/local/spark-3.4.0-bin-hadoop3/python (3.4.0)\n",
        "Requirement already satisfied: matplotlib in /opt/conda/lib/python3.10/site-packages (3.7.1)\n",
        "Collecting aiosqlite==0.18.0\n",
        "  Using cached aiosqlite-0.18.0-py3-none-any.whl (15 kB)\n",
        "Requirement already satisfied: numpy>=1.6.1 in /opt/conda/lib/python3.10/site-packages (from wordcloud) (1.23.5)\n",
        "Requirement already satisfied: pillow in /opt/conda/lib/python3.10/site-packages (from wordcloud) (9.5.0)\n",
        "Requirement already satisfied: python-dateutil>=2.8.2 in /opt/conda/lib/python3.10/site-packages (from pandas) (2.8.2)\n",
        "Requirement already satisfied: pytz>=2020.1 in /opt/conda/lib/python3.10/site-packages (from pandas) (2023.3)\n",
        "Requirement already satisfied: tzdata>=2022.1 in /opt/conda/lib/python3.10/site-packages (from pandas) (2023.3)\n",
        "Collecting py4j==0.10.9.7 (from pyspark)\n",
        "  Using cached py4j-0.10.9.7-py2.py3-none-any.whl (200 kB)\n",
        "Requirement already satisfied: contourpy>=1.0.1 in /opt/conda/lib/python3.10/site-packages (from matplotlib) (1.0.7)\n",
        "Requirement already satisfied: cycler>=0.10 in /opt/conda/lib/python3.10/site-packages (from matplotlib) (0.11.0)\n",
        "Requirement already satisfied: fonttools>=4.22.0 in /opt/conda/lib/python3.10/site-packages (from matplotlib) (4.39.3)\n",
        "Requirement already satisfied: kiwisolver>=1.0.1 in /opt/conda/lib/python3.10/site-packages (from matplotlib) (1.4.4)\n",
        "Requirement already satisfied: packaging>=20.0 in /opt/conda/lib/python3.10/site-packages (from matplotlib) (23.1)\n",
        "Requirement already satisfied: pyparsing>=2.3.1 in /opt/conda/lib/python3.10/site-packages (from matplotlib) (3.0.9)\n",
        "Requirement already satisfied: six>=1.5 in /opt/conda/lib/python3.10/site-packages (from python-dateutil>=2.8.2->pandas) (1.16.0)\n",
        "Installing collected packages: py4j, aiosqlite, wordcloud\n",
        "  Attempting uninstall: aiosqlite\n",
        "    Found existing installation: aiosqlite 0.19.0\n",
        "    Uninstalling aiosqlite-0.19.0:\n",
        "      Successfully uninstalled aiosqlite-0.19.0\n",
        "Successfully installed aiosqlite-0.18.0 py4j-0.10.9.7 wordcloud-1.9.1.1\n"
       ]
      }
     ],
     "source": [
      "!pip3 install wordcloud pandas pyspark matplotlib aiosqlite==0.18.0"
     ]
    },
    {
     "cell_type": "code",
     "execution_count": 2,
     "metadata": {
      "tags": []
     },
     "outputs": [],
     "source": [
      "from Sqlitedb import SQLiteDB\n",
      "import pandas as pd\n",
      "import math\n",
      "import matplotlib.pyplot as plot\n",
      "from wordcloud import WordCloud\n",
      "from pyspark import SparkConf\n",
      "from pyspark.context import SparkContext\n",
      "from pyspark import sql\n",
      "from pyspark.sql import SparkSession \n",
      "import matplotlib.pyplot as plt\n",
      "from pyspark.sql.functions import collect_list, concat_ws, explode\n",
      "from pyspark.sql.functions import col, expr\n",
      "import pyspark.sql.functions as F"
     ]
    },
    {
     "cell_type": "code",
     "execution_count": 4,
     "metadata": {
      "tags": []
     },
     "outputs": [],
     "source": [
      "db = SQLiteDB()\n",
      "df = db.read_sqlite_table()"
     ]
    }
   ],
   "metadata": {
    "kernelspec": {
     "display_name": "Python 3 (ipykernel)",
     "language": "python",
     "name": "python3"
    },
    "language_info": {
     "codemirror_mode": {
      "name": "ipython",
      "version": 3
     },
     "file_extension": ".py",
     "mimetype": "text/x-python",
     "name": "python",
     "nbconvert_exporter": "python",
     "pygments_lexer": "ipython3",
     "version": "3.10.10"
    },
    "vscode": {
     "interpreter": {
      "hash": "31f2aee4e71d21fbe5cf8b01ff0e069b9275f58929596ceb00d14d90e3e16cd6"
     }
    }
   },
   "nbformat": 4,
   "nbformat_minor": 4
  }