{
 "cells": [
  {
   "cell_type": "markdown",
   "metadata": {},
   "source": [
    "# Partie visualisation"
   ]
  },
  {
   "cell_type": "markdown",
   "metadata": {
    "tags": []
   },
   "source": [
    "## Création du dataframe"
   ]
  },
  {
   "cell_type": "code",
   "execution_count": 1,
   "metadata": {
    "tags": []
   },
   "outputs": [
    {
     "name": "stdout",
     "output_type": "stream",
     "text": [
      "Collecting wordcloud\n",
      "  Using cached wordcloud-1.9.1.1-cp310-cp310-manylinux_2_17_x86_64.manylinux2014_x86_64.whl (455 kB)\n",
      "Requirement already satisfied: pandas in /opt/conda/lib/python3.10/site-packages (2.0.1)\n",
      "Requirement already satisfied: pyspark in /usr/local/spark-3.4.0-bin-hadoop3/python (3.4.0)\n",
      "Requirement already satisfied: matplotlib in /opt/conda/lib/python3.10/site-packages (3.7.1)\n",
      "Collecting aiosqlite==0.18.0\n",
      "  Using cached aiosqlite-0.18.0-py3-none-any.whl (15 kB)\n",
      "Requirement already satisfied: numpy>=1.6.1 in /opt/conda/lib/python3.10/site-packages (from wordcloud) (1.23.5)\n",
      "Requirement already satisfied: pillow in /opt/conda/lib/python3.10/site-packages (from wordcloud) (9.5.0)\n",
      "Requirement already satisfied: python-dateutil>=2.8.2 in /opt/conda/lib/python3.10/site-packages (from pandas) (2.8.2)\n",
      "Requirement already satisfied: pytz>=2020.1 in /opt/conda/lib/python3.10/site-packages (from pandas) (2023.3)\n",
      "Requirement already satisfied: tzdata>=2022.1 in /opt/conda/lib/python3.10/site-packages (from pandas) (2023.3)\n",
      "Collecting py4j==0.10.9.7 (from pyspark)\n",
      "  Using cached py4j-0.10.9.7-py2.py3-none-any.whl (200 kB)\n",
      "Requirement already satisfied: contourpy>=1.0.1 in /opt/conda/lib/python3.10/site-packages (from matplotlib) (1.0.7)\n",
      "Requirement already satisfied: cycler>=0.10 in /opt/conda/lib/python3.10/site-packages (from matplotlib) (0.11.0)\n",
      "Requirement already satisfied: fonttools>=4.22.0 in /opt/conda/lib/python3.10/site-packages (from matplotlib) (4.39.3)\n",
      "Requirement already satisfied: kiwisolver>=1.0.1 in /opt/conda/lib/python3.10/site-packages (from matplotlib) (1.4.4)\n",
      "Requirement already satisfied: packaging>=20.0 in /opt/conda/lib/python3.10/site-packages (from matplotlib) (23.1)\n",
      "Requirement already satisfied: pyparsing>=2.3.1 in /opt/conda/lib/python3.10/site-packages (from matplotlib) (3.0.9)\n",
      "Requirement already satisfied: six>=1.5 in /opt/conda/lib/python3.10/site-packages (from python-dateutil>=2.8.2->pandas) (1.16.0)\n",
      "Installing collected packages: py4j, aiosqlite, wordcloud\n",
      "  Attempting uninstall: aiosqlite\n",
      "    Found existing installation: aiosqlite 0.19.0\n",
      "    Uninstalling aiosqlite-0.19.0:\n",
      "      Successfully uninstalled aiosqlite-0.19.0\n",
      "Successfully installed aiosqlite-0.18.0 py4j-0.10.9.7 wordcloud-1.9.1.1\n"
     ]
    }
   ],
   "source": [
    "!pip3 install wordcloud pandas pyspark matplotlib aiosqlite==0.18.0"
   ]
  },
  {
   "cell_type": "code",
   "execution_count": 2,
   "metadata": {
    "tags": []
   },
   "outputs": [],
   "source": [
    "from Sqlitedb import SQLiteDB\n",
    "import pandas as pd\n",
    "import math\n",
    "import matplotlib.pyplot as plot\n",
    "from wordcloud import WordCloud\n",
    "from pyspark import SparkConf\n",
    "from pyspark.context import SparkContext\n",
    "from pyspark import sql\n",
    "from pyspark.sql import SparkSession \n",
    "import matplotlib.pyplot as plt\n",
    "from pyspark.sql.functions import collect_list, concat_ws, explode\n",
    "from pyspark.sql.functions import col, expr\n",
    "import pyspark.sql.functions as F"
   ]
  },
  {
   "cell_type": "code",
   "execution_count": 4,
   "metadata": {
    "tags": []
   },
   "outputs": [],
   "source": [
    "db = SQLiteDB()\n",
    "df = db.read_sqlite_table()"
   ]
<<<<<<< HEAD
  },
  {
   "cell_type": "code",
   "execution_count": 10,
   "metadata": {},
   "outputs": [
    {
     "name": "stdout",
     "output_type": "stream",
     "text": [
      "<class 'pandas.core.frame.DataFrame'>\n"
     ]
    }
   ],
   "source": []
  },
  {
   "cell_type": "markdown",
   "metadata": {},
   "source": [
    "## Nombre de photos par année"
   ]
  },
  {
   "cell_type": "code",
<<<<<<< HEAD
   "execution_count": 6,
   "metadata": {
    "tags": []
   },
   "outputs": [
    {
     "data": {
      "image/png": "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",
      "text/plain": [
       "<Figure size 640x480 with 1 Axes>"
      ]
     },
     "metadata": {},
     "output_type": "display_data"
    }
   ],
   "source": [
    "from pandas.io.json import _normalize\n",
    "import pandas as pd\n",
    "import json\n",
    "import math\n",
    "import matplotlib.pyplot as plot\n",
=======
   "execution_count": 7,
   "metadata": {},
   "outputs": [
    {
     "ename": "AttributeError",
     "evalue": "'DataFrame' object has no attribute 'withColumnRenamed'",
     "output_type": "error",
     "traceback": [
      "\u001b[0;31m---------------------------------------------------------------------------\u001b[0m",
      "\u001b[0;31mAttributeError\u001b[0m                            Traceback (most recent call last)",
      "\u001b[0;32m/tmp/ipykernel_92/1884275421.py\u001b[0m in \u001b[0;36m?\u001b[0;34m()\u001b[0m\n\u001b[0;32m----> 1\u001b[0;31m \u001b[0myear_counts\u001b[0m \u001b[0;34m=\u001b[0m \u001b[0mdfspark\u001b[0m\u001b[0;34m.\u001b[0m\u001b[0mgroupby\u001b[0m\u001b[0;34m(\u001b[0m\u001b[0;34m[\u001b[0m\u001b[0;34m'date'\u001b[0m\u001b[0;34m]\u001b[0m\u001b[0;34m)\u001b[0m\u001b[0;34m.\u001b[0m\u001b[0magg\u001b[0m\u001b[0;34m(\u001b[0m\u001b[0;34m{\u001b[0m\u001b[0;34m\"date\"\u001b[0m\u001b[0;34m:\u001b[0m \u001b[0;34m\"count\"\u001b[0m\u001b[0;34m}\u001b[0m\u001b[0;34m)\u001b[0m\u001b[0;34m.\u001b[0m\u001b[0mwithColumnRenamed\u001b[0m\u001b[0;34m(\u001b[0m\u001b[0;34m\"count(date)\"\u001b[0m\u001b[0;34m,\u001b[0m \u001b[0;34m\"Number\"\u001b[0m\u001b[0;34m)\u001b[0m\u001b[0;34m.\u001b[0m\u001b[0morderBy\u001b[0m\u001b[0;34m(\u001b[0m\u001b[0mcol\u001b[0m\u001b[0;34m(\u001b[0m\u001b[0;34m\"date\"\u001b[0m\u001b[0;34m)\u001b[0m\u001b[0;34m)\u001b[0m\u001b[0;34m\u001b[0m\u001b[0;34m\u001b[0m\u001b[0m\n\u001b[0m\u001b[1;32m      2\u001b[0m \u001b[0;31m# Change date yyyy:mm:dd hh:mm:ss format to year yyyy\u001b[0m\u001b[0;34m\u001b[0m\u001b[0;34m\u001b[0m\u001b[0m\n\u001b[1;32m      3\u001b[0m \u001b[0myear_counts\u001b[0m \u001b[0;34m=\u001b[0m \u001b[0myear_counts\u001b[0m\u001b[0;34m.\u001b[0m\u001b[0mwithColumn\u001b[0m\u001b[0;34m(\u001b[0m\u001b[0;34m\"year\"\u001b[0m\u001b[0;34m,\u001b[0m \u001b[0mexpr\u001b[0m\u001b[0;34m(\u001b[0m\u001b[0;34m\"substring(date, 1, 4)\"\u001b[0m\u001b[0;34m)\u001b[0m\u001b[0;34m)\u001b[0m\u001b[0;34m\u001b[0m\u001b[0;34m\u001b[0m\u001b[0m\n\u001b[1;32m      4\u001b[0m \u001b[0myears\u001b[0m \u001b[0;34m=\u001b[0m \u001b[0;34m[\u001b[0m\u001b[0mstr\u001b[0m\u001b[0;34m(\u001b[0m\u001b[0mrow\u001b[0m\u001b[0;34m[\u001b[0m\u001b[0;34m'year'\u001b[0m\u001b[0;34m]\u001b[0m\u001b[0;34m)\u001b[0m \u001b[0;32mfor\u001b[0m \u001b[0mrow\u001b[0m \u001b[0;32min\u001b[0m \u001b[0myear_counts\u001b[0m\u001b[0;34m.\u001b[0m\u001b[0mcollect\u001b[0m\u001b[0;34m(\u001b[0m\u001b[0;34m)\u001b[0m \u001b[0;32mif\u001b[0m \u001b[0mrow\u001b[0m\u001b[0;34m[\u001b[0m\u001b[0;34m'year'\u001b[0m\u001b[0;34m]\u001b[0m \u001b[0;34m!=\u001b[0m \u001b[0;32mNone\u001b[0m \u001b[0;32mand\u001b[0m \u001b[0mrow\u001b[0m\u001b[0;34m[\u001b[0m\u001b[0;34m'year'\u001b[0m\u001b[0;34m]\u001b[0m \u001b[0;34m!=\u001b[0m \u001b[0;34m\"0000\"\u001b[0m \u001b[0;32mand\u001b[0m \u001b[0mrow\u001b[0m\u001b[0;34m[\u001b[0m\u001b[0;34m'year'\u001b[0m\u001b[0;34m]\u001b[0m \u001b[0;34m!=\u001b[0m \u001b[0;34m\"null\"\u001b[0m\u001b[0;34m]\u001b[0m\u001b[0;34m\u001b[0m\u001b[0;34m\u001b[0m\u001b[0m\n",
      "\u001b[0;32m/opt/conda/lib/python3.10/site-packages/pandas/core/generic.py\u001b[0m in \u001b[0;36m?\u001b[0;34m(self, name)\u001b[0m\n\u001b[1;32m   5985\u001b[0m             \u001b[0;32mand\u001b[0m \u001b[0mname\u001b[0m \u001b[0;32mnot\u001b[0m \u001b[0;32min\u001b[0m \u001b[0mself\u001b[0m\u001b[0;34m.\u001b[0m\u001b[0m_accessors\u001b[0m\u001b[0;34m\u001b[0m\u001b[0;34m\u001b[0m\u001b[0m\n\u001b[1;32m   5986\u001b[0m             \u001b[0;32mand\u001b[0m \u001b[0mself\u001b[0m\u001b[0;34m.\u001b[0m\u001b[0m_info_axis\u001b[0m\u001b[0;34m.\u001b[0m\u001b[0m_can_hold_identifiers_and_holds_name\u001b[0m\u001b[0;34m(\u001b[0m\u001b[0mname\u001b[0m\u001b[0;34m)\u001b[0m\u001b[0;34m\u001b[0m\u001b[0;34m\u001b[0m\u001b[0m\n\u001b[1;32m   5987\u001b[0m         ):\n\u001b[1;32m   5988\u001b[0m             \u001b[0;32mreturn\u001b[0m \u001b[0mself\u001b[0m\u001b[0;34m[\u001b[0m\u001b[0mname\u001b[0m\u001b[0;34m]\u001b[0m\u001b[0;34m\u001b[0m\u001b[0;34m\u001b[0m\u001b[0m\n\u001b[0;32m-> 5989\u001b[0;31m         \u001b[0;32mreturn\u001b[0m \u001b[0mobject\u001b[0m\u001b[0;34m.\u001b[0m\u001b[0m__getattribute__\u001b[0m\u001b[0;34m(\u001b[0m\u001b[0mself\u001b[0m\u001b[0;34m,\u001b[0m \u001b[0mname\u001b[0m\u001b[0;34m)\u001b[0m\u001b[0;34m\u001b[0m\u001b[0;34m\u001b[0m\u001b[0m\n\u001b[0m",
      "\u001b[0;31mAttributeError\u001b[0m: 'DataFrame' object has no attribute 'withColumnRenamed'"
     ]
    }
   ],
   "source": [
    "year_counts = dfspark.groupby(['date']).agg({\"date\": \"count\"}).withColumnRenamed(\"count(date)\", \"Number\").orderBy(col(\"date\"))\n",
    "# Change date yyyy:mm:dd hh:mm:ss format to year yyyy\n",
    "year_counts = year_counts.withColumn(\"year\", expr(\"substring(date, 1, 4)\"))\n",
    "years = [str(row['year']) for row in year_counts.collect() if row['year'] != None and row['year'] != \"0000\" and row['year'] != \"null\"]\n",
    "numbers = [row['Number'] for row in year_counts.collect() if row['year'] != None and row['year'] != \"0000\" and row['year'] != \"null\"]\n",
>>>>>>> bacf3bd (working)
    "\n",
    "\n",
    "plot.bar(years, numbers)\n",
    "plot.xlabel('Année')\n",
    "plot.ylabel('Nombre de photos')\n",
    "plot.xticks(rotation=90)\n",
    "plot.title('Nombre de photos par année')\n",
    "plot.show()"
   ]
  },
  {
   "cell_type": "markdown",
   "metadata": {},
   "source": [
    "## Nombre de photos par année et par marque d'appareil"
   ]
  },
  {
   "cell_type": "code",
   "execution_count": null,
   "metadata": {},
   "outputs": [],
   "source": [
    "devices = dfspark.groupby(['date', 'make']).agg({\"make\": \"count\"}).withColumnRenamed(\"count(make)\", \"count\")\n",
    "devices.createOrReplaceTempView(\"devices\")\n",
    "\n",
    "# Change date yyyy:mm:dd hh:mm:ss format to year yyyy\n",
    "devices = devices.withColumn(\"year\", expr(\"substring(date, 1, 4)\"))         \n",
    "print(devices.show())\n",
    "\n",
    "makes = devices.select(\"make\").distinct().collect()\n",
    "\n",
    "nr = math.ceil(len(makes) / 2)\n",
    "fig, axes = plot.subplots(nrows=nr, ncols=2, figsize=(20, 70))\n",
    "\n",
    "for i, make in enumerate(makes):\n",
    "    if make[0] == None or make[0] == \"null\" or make[0] == \"None\" or make[0] == \"none\":\n",
    "        continue\n",
    "    g = devices.filter(devices.make == make[0]).orderBy(col(\"year\")).toPandas()\n",
    "    g.plot(\n",
    "        x=\"year\", y=\"count\", kind=\"bar\", title=make[0], ax=axes[math.floor(i / 2), i % 2]\n",
    "    )\n",
<<<<<<< HEAD
    "\n",
    "#plot.show()\n",
    "\n",
    "plot.savefig('./visualisation_images/devices.png')\n",
    "\n"
=======
    "plot.title(\"Nombre de photos par appareil\")\n",
    "plot.show()"
>>>>>>> bacf3bd (working)
   ]
  },
  {
   "cell_type": "markdown",
   "metadata": {},
   "source": [
    "# Nombre d'images par famille (les 20 plus grandes familles)"
   ]
  },
  {
   "cell_type": "code",
   "execution_count": null,
   "metadata": {},
   "outputs": [],
   "source": [
    "top_families = dfspark.groupby(['family']).agg({\"family\": \"count\"}).withColumnRenamed(\"count(family)\", \"count\").orderBy(col(\"count\").desc()).limit(4)\n",
    "total_photos = dfspark.count()\n",
    "top_families_list = top_families.collect()\n",
    "labels = [row['family'] for row in top_families_list]\n",
    "sizes = [row['count'] for row in top_families_list]\n",
    "percentages = [size / total_photos * 100 for size in sizes]\n",
    "\n",
    "fig, ax = plot.subplots()\n",
    "ax.pie(sizes, labels=labels, autopct=lambda p: '{:.1f}%'.format(p))\n",
    "plot.title('Répartition des photos par famille')\n",
    "plot.show()"
   ]
  },
  {
   "cell_type": "code",
   "execution_count": null,
   "metadata": {},
   "outputs": [],
   "source": [
    "top_families = dfspark.groupby(['family']).agg({\"family\": \"count\"}).withColumnRenamed(\"count(family)\", \"count\")\n",
    "top_families_list = top_families.collect()[:20]\n",
    "labels = [row['family'] for row in top_families_list]\n",
    "sizes = [row['count'] for row in top_families_list]\n",
    "plot.title(\"Nombe des photos des 20 plus grandes familles\")\n",
    "plot.bar(labels, sizes)\n",
    "plot.xlabel('Familles')\n",
    "plot.xticks(rotation=90)\n",
    "plot.ylabel('Nombre de photos')\n",
    "plot.show()\n"
   ]
  },
  {
   "cell_type": "code",
   "execution_count": null,
   "metadata": {},
   "outputs": [],
   "source": [
    "captions = dfspark.select(collect_list('family').alias('family_list')) \\\n",
    "        .select(concat_ws(' ', 'family_list').alias('captions')) \\\n",
    "        .collect()[0]['captions']\n",
    "\n",
    "wordcloud = WordCloud(width=800, height=400, max_words=200, background_color='white').generate(captions)\n",
    "\n",
    "plot.figure(figsize=(12, 6))\n",
    "plot.imshow(wordcloud, interpolation='bilinear')\n",
    "plot.axis('off')\n",
    "plot.title('Nuage de mots des familles')\n",
    "plot.show()"
   ]
  },
  {
   "cell_type": "markdown",
   "metadata": {},
   "source": [
    "## Les 10 couleurs les plus présentes "
   ]
  },
  {
   "cell_type": "code",
<<<<<<< HEAD
   "execution_count": 8,
   "metadata": {
    "tags": []
   },
   "outputs": [
    {
     "data": {
      "text/html": [
       "<div>\n",
       "<style scoped>\n",
       "    .dataframe tbody tr th:only-of-type {\n",
       "        vertical-align: middle;\n",
       "    }\n",
       "\n",
       "    .dataframe tbody tr th {\n",
       "        vertical-align: top;\n",
       "    }\n",
       "\n",
       "    .dataframe thead th {\n",
       "        text-align: right;\n",
       "    }\n",
       "</style>\n",
       "<table border=\"1\" class=\"dataframe\">\n",
       "  <thead>\n",
       "    <tr style=\"text-align: right;\">\n",
       "      <th></th>\n",
       "      <th>color</th>\n",
       "    </tr>\n",
       "  </thead>\n",
       "  <tbody>\n",
       "    <tr>\n",
       "      <th>0</th>\n",
       "      <td>darkolivegreen</td>\n",
       "    </tr>\n",
       "    <tr>\n",
       "      <th>1</th>\n",
       "      <td>lightsteelblue</td>\n",
       "    </tr>\n",
       "    <tr>\n",
       "      <th>2</th>\n",
       "      <td>darkseagreen</td>\n",
       "    </tr>\n",
       "    <tr>\n",
       "      <th>3</th>\n",
       "      <td>darkslategrey</td>\n",
       "    </tr>\n",
       "    <tr>\n",
       "      <th>4</th>\n",
       "      <td>black</td>\n",
       "    </tr>\n",
       "    <tr>\n",
       "      <th>...</th>\n",
       "      <td>...</td>\n",
       "    </tr>\n",
       "    <tr>\n",
       "      <th>1021</th>\n",
       "      <td>lightslategrey</td>\n",
       "    </tr>\n",
       "    <tr>\n",
       "      <th>1022</th>\n",
       "      <td>darkseagreen</td>\n",
       "    </tr>\n",
       "    <tr>\n",
       "      <th>1023</th>\n",
       "      <td>darkolivegreen</td>\n",
       "    </tr>\n",
       "    <tr>\n",
       "      <th>1024</th>\n",
       "      <td>darkslategrey</td>\n",
       "    </tr>\n",
       "    <tr>\n",
       "      <th>1025</th>\n",
       "      <td>darkkhaki</td>\n",
       "    </tr>\n",
       "  </tbody>\n",
       "</table>\n",
       "<p>1026 rows × 1 columns</p>\n",
       "</div>"
      ],
      "text/plain": [
       "               color\n",
       "0     darkolivegreen\n",
       "1     lightsteelblue\n",
       "2       darkseagreen\n",
       "3      darkslategrey\n",
       "4              black\n",
       "...              ...\n",
       "1021  lightslategrey\n",
       "1022    darkseagreen\n",
       "1023  darkolivegreen\n",
       "1024   darkslategrey\n",
       "1025       darkkhaki\n",
       "\n",
       "[1026 rows x 1 columns]"
      ]
     },
     "execution_count": 8,
     "metadata": {},
     "output_type": "execute_result"
    }
   ],
   "source": [
    "colors = [color for list_color in df['dominated_colors_name'] if list_color is not None for color in list_color]\n",
    "\n",
    "color_counts = pd.DataFrame(colors, columns=['color'])\n",
    "\n",
    "color_counts\n"
   ]
  },
  {
   "cell_type": "code",
   "execution_count": 9,
=======
   "execution_count": null,
>>>>>>> bacf3bd (working)
   "metadata": {},
   "outputs": [],
   "source": [
    "df_colors = dfspark.select(col(\"colors1_name\").alias(\"color\")).union(dfspark.select(col(\"colors2_name\").alias(\"color\")))\n",
    "df_colors = df_colors.filter(df_colors.color.isNotNull())\n",
    "color_counts = df_colors.groupBy(\"color\").count().orderBy(F.desc(\"count\"))\n",
    "color_size = color_counts.limit(10).collect()\n",
    "color_labels = [row[\"color\"] for row in color_size]\n",
    "color_values = [row[\"count\"] for row in color_size]\n",
    "total_colors = color_counts.agg(F.sum(\"count\")).collect()[0][0]\n",
    "print(total_colors)\n",
    "print(color_labels)\n",
    "print(color_values)\n",
    "plot.pie(color_values, labels=color_labels, autopct=lambda p: '{:.1f}%'.format(p * (sum(color_values)/total_colors)))\n",
    "plot.title('Répartition des couleurs dominantes')\n",
    "plot.show()"
   ]
  },
  {
   "cell_type": "code",
   "execution_count": null,
   "metadata": {},
   "outputs": [],
   "source": [
    "df_colors = dfspark.select(col(\"colors1_name\").alias(\"color\")).union(self.dfspark.select(col(\"colors2_name\").alias(\"color\")))\n",
    "df_colors = df_colors.filter(df_colors.color.isNotNull())\n",
    "color_counts = df_colors.groupBy(\"color\").count().orderBy(F.desc(\"count\"))\n",
    "\n",
    "\n",
    "color_size = color_counts.collect()\n",
    "colors = [row[\"color\"] for row in color_size]\n",
    "captions = ' '.join(colors)\n",
    "\n",
    "wordcloud = WordCloud(width=800, height=400, max_words=200, background_color='white').generate(captions)\n",
    "\n",
    "plot.figure(figsize=(12, 6))\n",
    "plot.imshow(wordcloud, interpolation='bilinear')\n",
    "plot.axis('off')\n",
    "plot.title('Nuage de mots des couleurs dominantes')\n",
    "plot.show()\n"
   ]
  },
  {
   "cell_type": "markdown",
   "metadata": {},
   "source": [
    "## Le nombre d'images par région géographique"
   ]
  },
  {
   "cell_type": "code",
   "execution_count": null,
   "metadata": {
    "tags": []
   },
   "outputs": [],
   "source": [
    "region_size = dfspark.groupBy(\"location\").count().withColumnRenamed(\"count\", \"size\")\n",
    "total_region = region_size.agg({\"size\": \"sum\"}).collect()[0][0]\n",
    "region_size = region_size.collect()\n",
    "region_labels = [row[\"location\"] for row in region_size]\n",
    "region_values = [row[\"size\"] for row in region_size]\n",
    "plot.pie(region_values, labels=region_labels, autopct=lambda p: '{:.1f}%'.format(p * (sum(region_values)/total_region)))\n",
    "plot.title('Répartition des zones géographique des espèces')\n",
    "plot.show()"
   ]
  },
  {
   "cell_type": "code",
   "execution_count": null,
   "metadata": {},
   "outputs": [],
   "source": [
    "region_size = dfspark.groupBy(\"location\").count().withColumnRenamed(\"count\", \"size\")\n",
    "total_region = region_size.agg({\"size\": \"sum\"}).collect()[0][0]\n",
    "region_size = region_size.collect()\n",
    "region_labels = [row[\"location\"] for row in region_size]\n",
    "captions = ' '.join(region_labels)\n",
    "wordcloud = WordCloud(width=800, height=400, max_words=200, background_color='white').generate(captions)\n",
    "plt.figure(figsize=(12, 6))\n",
    "plt.imshow(wordcloud, interpolation='bilinear')\n",
    "plt.axis('off')\n",
    "plt.title('Nuage de mots des zones géographiques')\n",
    "plt.show()"
   ]
=======
>>>>>>> 2fbc2cc (add swaggers)
  }
 ],
 "metadata": {
  "kernelspec": {
   "display_name": "Python 3 (ipykernel)",
   "language": "python",
   "name": "python3"
  },
  "language_info": {
   "codemirror_mode": {
    "name": "ipython",
    "version": 3
   },
   "file_extension": ".py",
   "mimetype": "text/x-python",
   "name": "python",
   "nbconvert_exporter": "python",
   "pygments_lexer": "ipython3",
   "version": "3.10.10"
  },
  "vscode": {
   "interpreter": {
    "hash": "31f2aee4e71d21fbe5cf8b01ff0e069b9275f58929596ceb00d14d90e3e16cd6"
   }
  }
 },
 "nbformat": 4,
 "nbformat_minor": 4
}
