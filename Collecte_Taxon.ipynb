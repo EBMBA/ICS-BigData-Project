{
 "cells": [
  {
   "attachments": {},
   "cell_type": "markdown",
   "metadata": {},
   "source": [
    "Récupération des données sur des êtres vivant \n",
    "\n",
    "Données que nous récupérons :\n",
    "- Nom \n",
    "- Nom scientifique\n",
    "- Image\n",
    "- Famille \n",
    "- Lieu géographique"
   ]
  },
  {
   "cell_type": "code",
   "execution_count": null,
   "metadata": {},
   "outputs": [],
   "source": [
    "import sys\n",
    "from SPARQLWrapper import SPARQLWrapper, JSON\n",
    "import pandas as pd"
   ]
  },
  {
   "cell_type": "code",
   "execution_count": null,
   "metadata": {},
   "outputs": [],
   "source": [
    "endpoint_url = \"https://query.wikidata.org/sparql\"\n",
    "\n",
    "# Get taxons\n",
    "query = \"\"\"SELECT DISTINCT ?taxon ?name ?image ?sciName ?familyLabel ?locationLabel\n",
    "WHERE {\n",
    "  ?taxon wdt:P31 wd:Q16521;\n",
    "          rdfs:label ?name;\n",
    "          wdt:P18 ?image;\n",
    "          wdt:P225 ?sciName;\n",
    "          wdt:P171 ?family;\n",
    "          wdt:P9714 ?location.\n",
    "  FILTER(lang(?name) = \"en\")\n",
    "  SERVICE wikibase:label { bd:serviceParam wikibase:language \"en\". }\n",
    "}\n",
    "LIMIT 1000\"\"\"\n",
    "\n",
    "\n",
    "def get_results(endpoint_url, query):\n",
    "    user_agent = \"WDQS-example Python/%s.%s\" % (\n",
    "        sys.version_info[0],\n",
    "        sys.version_info[1],\n",
    "    )\n",
    "    sparql = SPARQLWrapper(endpoint_url, agent=user_agent)\n",
    "    sparql.setQuery(query)\n",
    "    sparql.setReturnFormat(JSON)\n",
    "    return sparql.query().convert()\n",
    "\n",
    "\n",
    "array = []\n",
    "results = get_results(endpoint_url, query)\n",
    "\n",
    "for result in results[\"results\"][\"bindings\"]:\n",
    "    array.append(\n",
    "        (\n",
    "            result[\"name\"][\"value\"],\n",
    "            result[\"image\"][\"value\"],\n",
    "            result[\"sciName\"][\"value\"],\n",
    "            result[\"familyLabel\"][\"value\"],\n",
    "            result[\"locationLabel\"][\"value\"],\n",
    "        )\n",
    "    )"
   ]
  },
  {
   "cell_type": "code",
   "execution_count": null,
   "metadata": {},
   "outputs": [],
   "source": [
    "dataframe = pd.DataFrame(array, columns=[\"name\", \"image\", \"scientific_name\",\"family\", \"location\"])\n",
    "\n",
    "dataframe = dataframe.astype(\n",
    "    dtype={\"name\" : \"<U200\", \"image\" : \"<U200\", \"scientific_name\" : \"<U200\",\"family\" : \"<U200\", \"location\" : \"<U200\"}\n",
    ")\n",
    "dataframe"
   ]
  },
  {
   "attachments": {},
   "cell_type": "markdown",
   "metadata": {},
   "source": [
    "Téléchargement des images "
   ]
  },
  {
   "cell_type": "code",
   "execution_count": null,
   "metadata": {},
   "outputs": [],
   "source": [
    "import requests\n",
    "import shutil\n",
    "import os\n",
    "import json\n",
    "\n",
    "def download_and_create_json(dataframe):\n",
    "    if not os.path.exists(\"metadata\"):\n",
    "        os.mkdir(\"metadata\")\n",
    "    print(dataframe)\n",
    "    for index, row in dataframe.iterrows():\n",
    "        image_url = row[\"image\"]\n",
    "        response_code = download_image(image_url)\n",
    "        if response_code == 200:\n",
    "            image_filename = os.path.basename(image_url)\n",
    "            if len(image_filename) > 50:\n",
    "                continue\n",
    "            json_filename = os.path.splitext(image_filename)[0] + \".json\"\n",
    "            json_path = os.path.join(\"metadata\", json_filename)\n",
    "            json_data = {\n",
    "                \"name\": row[\"name\"],\n",
    "                \"scientific_name\": row[\"scientific_name\"],\n",
    "                \"family\": row[\"family\"],\n",
    "                \"location\": row[\"location\"]\n",
    "            }\n",
    "            with open(json_path, \"w\") as json_file:\n",
    "                json.dump(json_data, json_file, indent=4)\n",
    "\n",
    "    \n",
    "    \n",
    "\n",
    "\n",
    "def download_image(url):\n",
    "    if not os.path.exists(\"images\"):\n",
    "        os.mkdir(\"images\")\n",
    "    headers = {\"User-Agent\": \"Mozilla/5.0\"}\n",
    "    request = requests.get(url, allow_redirects=True, headers=headers, stream=True)\n",
    "    if request.status_code == 200:\n",
    "        filename = os.path.join(\"images\", os.path.basename(url))\n",
    "        print(filename)\n",
    "        \n",
    "        if len(filename) > 50:\n",
    "            return\n",
    "        \n",
    "        with open(filename, \"wb\") as image:\n",
    "            request.raw.decode_content = True\n",
    "            shutil.copyfileobj(request.raw, image)\n",
    "    return request.status_code"
   ]
  },
  {
   "cell_type": "code",
   "execution_count": null,
   "metadata": {},
   "outputs": [],
   "source": [
    "download_and_create_json(dataframe)"
   ]
  }
 ],
 "metadata": {
  "kernelspec": {
   "display_name": "Python 3",
   "language": "python",
   "name": "python3"
  },
  "language_info": {
   "codemirror_mode": {
    "name": "ipython",
    "version": 3
   },
   "file_extension": ".py",
   "mimetype": "text/x-python",
   "name": "python",
   "nbconvert_exporter": "python",
   "pygments_lexer": "ipython3",
   "version": "3.9.5"
  },
  "orig_nbformat": 4
 },
 "nbformat": 4,
 "nbformat_minor": 2
}
