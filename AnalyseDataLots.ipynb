{
 "cells": [
  {
   "cell_type": "code",
   "execution_count": 5,
   "id": "04d6ef74-1256-43b1-b644-be086d8d4ddd",
   "metadata": {
    "tags": []
   },
   "outputs": [
    {
     "ename": "ValueError",
     "evalue": "Sample larger than population or is negative",
     "output_type": "error",
     "traceback": [
      "\u001b[0;31m---------------------------------------------------------------------------\u001b[0m",
      "\u001b[0;31mValueError\u001b[0m                                Traceback (most recent call last)",
      "Cell \u001b[0;32mIn[5], line 14\u001b[0m\n\u001b[1;32m     12\u001b[0m liked \u001b[38;5;241m=\u001b[39m random\u001b[38;5;241m.\u001b[39msample([f \u001b[38;5;28;01mfor\u001b[39;00m f \u001b[38;5;129;01min\u001b[39;00m fichiers], \u001b[38;5;241m10\u001b[39m)\n\u001b[1;32m     13\u001b[0m \u001b[38;5;66;03m# choisir au hasard 10 fichiers pour \"not_favorite\"\u001b[39;00m\n\u001b[0;32m---> 14\u001b[0m not_liked_fichiers \u001b[38;5;241m=\u001b[39m \u001b[43mrandom\u001b[49m\u001b[38;5;241;43m.\u001b[39;49m\u001b[43msample\u001b[49m\u001b[43m(\u001b[49m\u001b[43m[\u001b[49m\u001b[43mf\u001b[49m\u001b[43m \u001b[49m\u001b[38;5;28;43;01mfor\u001b[39;49;00m\u001b[43m \u001b[49m\u001b[43mf\u001b[49m\u001b[43m \u001b[49m\u001b[38;5;129;43;01min\u001b[39;49;00m\u001b[43m \u001b[49m\u001b[43mfichiers\u001b[49m\u001b[43m \u001b[49m\u001b[38;5;28;43;01mif\u001b[39;49;00m\u001b[43m \u001b[49m\u001b[43mf\u001b[49m\u001b[43m \u001b[49m\u001b[38;5;129;43;01mnot\u001b[39;49;00m\u001b[43m \u001b[49m\u001b[38;5;129;43;01min\u001b[39;49;00m\u001b[43m \u001b[49m\u001b[43mliked\u001b[49m\u001b[43m]\u001b[49m\u001b[43m,\u001b[49m\u001b[43m \u001b[49m\u001b[38;5;241;43m10\u001b[39;49m\u001b[43m)\u001b[49m\n\u001b[1;32m     16\u001b[0m \u001b[38;5;66;03m# dictionnaire pour stocker les données\u001b[39;00m\n\u001b[1;32m     17\u001b[0m donnees \u001b[38;5;241m=\u001b[39m {\n\u001b[1;32m     18\u001b[0m     \u001b[38;5;124m\"\u001b[39m\u001b[38;5;124mfavorite\u001b[39m\u001b[38;5;124m\"\u001b[39m: {\n\u001b[1;32m     19\u001b[0m         \u001b[38;5;124m\"\u001b[39m\u001b[38;5;124mfamily\u001b[39m\u001b[38;5;124m\"\u001b[39m: [], \n\u001b[0;32m   (...)\u001b[0m\n\u001b[1;32m     27\u001b[0m     }\n\u001b[1;32m     28\u001b[0m }\n",
      "File \u001b[0;32m/usr/lib/python3.8/random.py:363\u001b[0m, in \u001b[0;36mRandom.sample\u001b[0;34m(self, population, k)\u001b[0m\n\u001b[1;32m    361\u001b[0m n \u001b[38;5;241m=\u001b[39m \u001b[38;5;28mlen\u001b[39m(population)\n\u001b[1;32m    362\u001b[0m \u001b[38;5;28;01mif\u001b[39;00m \u001b[38;5;129;01mnot\u001b[39;00m \u001b[38;5;241m0\u001b[39m \u001b[38;5;241m<\u001b[39m\u001b[38;5;241m=\u001b[39m k \u001b[38;5;241m<\u001b[39m\u001b[38;5;241m=\u001b[39m n:\n\u001b[0;32m--> 363\u001b[0m     \u001b[38;5;28;01mraise\u001b[39;00m \u001b[38;5;167;01mValueError\u001b[39;00m(\u001b[38;5;124m\"\u001b[39m\u001b[38;5;124mSample larger than population or is negative\u001b[39m\u001b[38;5;124m\"\u001b[39m)\n\u001b[1;32m    364\u001b[0m result \u001b[38;5;241m=\u001b[39m [\u001b[38;5;28;01mNone\u001b[39;00m] \u001b[38;5;241m*\u001b[39m k\n\u001b[1;32m    365\u001b[0m setsize \u001b[38;5;241m=\u001b[39m \u001b[38;5;241m21\u001b[39m        \u001b[38;5;66;03m# size of a small set minus size of an empty list\u001b[39;00m\n",
      "\u001b[0;31mValueError\u001b[0m: Sample larger than population or is negative"
     ]
    }
   ],
   "source": [
    "import os\n",
    "import json\n",
    "import random\n",
    "import pandas as pd\n",
    "\n",
    "# chemin vers le dossier contenant les fichiers JSON\n",
    "chemin = \"metadata/\"\n",
    "\n",
    "# liste de tous les fichiers JSON dans le dossier\n",
    "fichiers = [f for f in os.listdir(chemin) if f.endswith('.json')]\n",
    "\n",
    "liked = random.sample([f for f in fichiers], 10)\n",
    "# choisir au hasard 10 fichiers pour \"not_favorite\"\n",
    "not_liked_fichiers = random.sample([f for f in fichiers if f not in liked], 10)\n",
    "\n",
    "# dictionnaire pour stocker les données\n",
    "donnees = {\n",
    "    \"favorite\": {\n",
    "        \"family\": [], \n",
    "        \"location\": [], \n",
    "        \"dominated_colors_name\": []\n",
    "    },\n",
    "    \"not_favorite\": {\n",
    "        \"family\": [], \n",
    "        \"location\": [], \n",
    "        \"dominated_colors_name\": []\n",
    "    }\n",
    "}\n",
    "\n",
    "# extraire les données des fichiers choisis\n",
    "for fichier in liked:\n",
    "    chemin_fichier = os.path.join(chemin, fichier)\n",
    "    with open(chemin_fichier) as f:\n",
    "        donnees_fichier = json.load(f)\n",
    "        if \"family\" in donnees_fichier and donnees_fichier[\"family\"]:\n",
    "            donnees[\"favorite\"][\"family\"].append(donnees_fichier[\"family\"])\n",
    "        if \"location\" in donnees_fichier and donnees_fichier[\"location\"]:\n",
    "            donnees[\"favorite\"][\"location\"].append(donnees_fichier[\"location\"])\n",
    "        if \"dominated_colors_name\" in donnees_fichier and donnees_fichier[\"dominated_colors_name\"]:\n",
    "            donnees[\"favorite\"][\"dominated_colors_name\"].extend(donnees_fichier[\"dominated_colors_name\"])\n",
    "\n",
    "for fichier in not_liked_fichiers:\n",
    "    chemin_fichier = os.path.join(chemin, fichier)\n",
    "    with open(chemin_fichier) as f:\n",
    "        donnees_fichier = json.load(f)\n",
    "        if \"family\" in donnees_fichier and donnees_fichier[\"family\"]:\n",
    "            donnees[\"not_favorite\"][\"family\"].append(donnees_fichier[\"family\"])\n",
    "        if \"location\" in donnees_fichier and donnees_fichier[\"location\"]:\n",
    "            donnees[\"not_favorite\"][\"location\"].append(donnees_fichier[\"location\"])\n",
    "        if \"dominated_colors_name\" in donnees_fichier and donnees_fichier[\"dominated_colors_name\"]:\n",
    "            donnees[\"not_favorite\"][\"dominated_colors_name\"].extend(donnees_fichier[\"dominated_colors_name\"])\n",
    "\n",
    "# encapsuler les données dans un dictionnaire avec la clé \"user\"\n",
    "user_data = {\"user\": {\"id\": 1, \"preferences\": donnees}}\n",
    "\n",
    "# enregistrer les données dans un fichier JSON\n",
    "with open('user_data.json', 'w') as f:\n",
    "    json.dump(user_data, f)"
   ]
  },
  {
   "cell_type": "code",
   "execution_count": null,
   "id": "21e7eaeb-ff66-4c96-8575-100cdb7f1ab8",
   "metadata": {},
   "outputs": [],
   "source": []
  }
 ],
 "metadata": {
  "kernelspec": {
   "display_name": "Python 3 (ipykernel)",
   "language": "python",
   "name": "python3"
  },
  "language_info": {
   "codemirror_mode": {
    "name": "ipython",
    "version": 3
   },
   "file_extension": ".py",
   "mimetype": "text/x-python",
   "name": "python",
   "nbconvert_exporter": "python",
   "pygments_lexer": "ipython3",
   "version": "3.10.10"
  }
 },
 "nbformat": 4,
 "nbformat_minor": 5
}
