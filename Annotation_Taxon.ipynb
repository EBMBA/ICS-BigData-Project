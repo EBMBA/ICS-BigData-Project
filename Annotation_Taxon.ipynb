{
 "cells": [
  {
   "cell_type": "markdown",
   "metadata": {},
   "source": [
    "Analyse de l'image "
   ]
  },
  {
   "cell_type": "code",
   "execution_count": 7,
   "metadata": {},
   "outputs": [
    {
     "name": "stdout",
     "output_type": "stream",
     "text": [
      "Defaulting to user installation because normal site-packages is not writeable\n",
      "Requirement already satisfied: webcolors==1.3 in /home/user/.local/lib/python3.8/site-packages (1.3)\n",
      "\n",
      "\u001b[1m[\u001b[0m\u001b[34;49mnotice\u001b[0m\u001b[1;39;49m]\u001b[0m\u001b[39;49m A new release of pip is available: \u001b[0m\u001b[31;49m23.0\u001b[0m\u001b[39;49m -> \u001b[0m\u001b[32;49m23.1.1\u001b[0m\n",
      "\u001b[1m[\u001b[0m\u001b[34;49mnotice\u001b[0m\u001b[1;39;49m]\u001b[0m\u001b[39;49m To update, run: \u001b[0m\u001b[32;49mpython3 -m pip install --upgrade pip\u001b[0m\n"
     ]
    }
   ],
   "source": [
    "!pip install webcolors==1.3"
   ]
  },
  {
   "cell_type": "code",
   "execution_count": 8,
   "metadata": {},
   "outputs": [],
   "source": [
    "exif_data_interested = [\n",
    "    \"DateTimeOriginal\",\n",
    "    \"Make\",\n",
    "    \"Model\",\n",
    "    \"Orientation\",\n",
    "    \"Copyright\",\n",
    "    \"DateTime\",\n",
    "    \"DateTimeDigitized\"\n",
    "]"
   ]
  },
  {
   "cell_type": "code",
   "execution_count": 9,
   "metadata": {
    "tags": []
   },
   "outputs": [
    {
     "name": "stdout",
     "output_type": "stream",
     "text": [
      "<PIL.JpegImagePlugin.JpegImageFile image mode=RGB size=4504x3378 at 0x7F3F72248CA0>\n",
      "['#9d9d62', '#4f4d2a']\n",
      "<PIL.JpegImagePlugin.JpegImageFile image mode=RGB size=3573x3573 at 0x7F3FAC655610>\n",
      "['#97b087', '#4b5332']\n",
      "<PIL.JpegImagePlugin.JpegImageFile image mode=RGB size=2738x2104 at 0x7F3FAC6556A0>\n",
      "['#b7b2a4', '#56533b']\n",
      "<PIL.JpegImagePlugin.JpegImageFile image mode=RGB size=3072x2048 at 0x7F3FAC655520>\n",
      "['#5f4f31', '#b8ad9e']\n",
      "<PIL.JpegImagePlugin.JpegImageFile image mode=RGB size=756x1008 at 0x7F3FAC655640>\n",
      "['#384315', '#b0b65e']\n",
      "<PIL.JpegImagePlugin.JpegImageFile image mode=RGB size=2304x3072 at 0x7F3FAC655820>\n",
      "['#375d25', '#9aad7c']\n",
      "<PIL.JpegImagePlugin.JpegImageFile image mode=RGB size=2544x1696 at 0x7F3FAC6556A0>\n",
      "['#a8c385', '#536132']\n",
      "<PIL.JpegImagePlugin.JpegImageFile image mode=RGB size=2717x3302 at 0x7F3FAC6554F0>\n",
      "['#b4cc4b', '#343f28']\n",
      "<PIL.JpegImagePlugin.JpegImageFile image mode=RGB size=2593x1859 at 0x7F3FAC6550A0>\n",
      "['#46512a', '#cfc9a3']\n",
      "<PIL.JpegImagePlugin.JpegImageFile image mode=RGB size=5562x3708 at 0x7F3FAC655790>\n",
      "['#97a96a', '#464e28']\n",
      "<PIL.JpegImagePlugin.JpegImageFile image mode=RGB size=2723x2150 at 0x7F3FAC655580>\n",
      "['#a5bfa3', '#3e5840']\n",
      "<PIL.JpegImagePlugin.JpegImageFile image mode=RGB size=5643x3762 at 0x7F3FAC655940>\n",
      "['#a1a98d', '#454b2d']\n",
      "<PIL.JpegImagePlugin.JpegImageFile image mode=RGB size=2048x3072 at 0x7F3FAC655CA0>\n",
      "['#5e6a39', '#aeb085']\n",
      "<PIL.JpegImagePlugin.JpegImageFile image mode=RGB size=800x767 at 0x7F3FAC6558B0>\n",
      "['#b6c6cf', '#71684d']\n",
      "<PIL.JpegImagePlugin.JpegImageFile image mode=RGB size=3626x3626 at 0x7F3FAC6550D0>\n",
      "['#acbe8d', '#3f4e26']\n",
      "<PIL.JpegImagePlugin.JpegImageFile image mode=RGB size=960x1280 at 0x7F3FAC655C40>\n",
      "['#98ad7a', '#36461c']\n",
      "<PIL.JpegImagePlugin.JpegImageFile image mode=RGB size=2471x3706 at 0x7F3FAC655790>\n",
      "['#372e25', '#828fa7']\n",
      "<PIL.JpegImagePlugin.JpegImageFile image mode=RGB size=1600x1200 at 0x7F3FAC6550A0>\n",
      "['#644d3a', '#c9b88d']\n",
      "<PIL.JpegImagePlugin.JpegImageFile image mode=RGB size=2544x1696 at 0x7F3FAC6550D0>\n",
      "['#595849', '#a1a594']\n",
      "<PIL.JpegImagePlugin.JpegImageFile image mode=RGB size=2544x1696 at 0x7F3FAC655BE0>\n",
      "['#b5bfa4', '#414e26']\n"
     ]
    }
   ],
   "source": [
    "import os\n",
    "import json\n",
    "from PIL import Image, ImageColor\n",
    "from PIL.ExifTags import TAGS\n",
    "import numpy as np\n",
    "from sklearn.cluster import KMeans\n",
    "from sklearn.metrics import mean_squared_error\n",
    "import webcolors\n",
    "import math\n",
    "\n",
    "\n",
    "def getDominatedColors(imgfile):\n",
    "    # Parcourir les fichiers dans le répertoire d'images\n",
    "    print(imgfile)\n",
    "    numarray = np.array(imgfile.getdata(), np.uint8)\n",
    "    colors = []\n",
    "    if len(numarray.shape) == 2:\n",
    "        clusters = KMeans(n_clusters=2, n_init=2)\n",
    "        clusters.fit(numarray)\n",
    "        for i in range(len(clusters.cluster_centers_)):\n",
    "            colors.append(\n",
    "                \"#%02x%02x%02x\"\n",
    "                % (\n",
    "                    math.ceil(clusters.cluster_centers_[i][0]),\n",
    "                    math.ceil(clusters.cluster_centers_[i][1]),\n",
    "                    math.ceil(clusters.cluster_centers_[i][2]),\n",
    "                )\n",
    "            )\n",
    "    return colors\n",
    "\n",
    "# https://stackoverflow.com/questions/70967119/webcolors-has-no-attribute-css3-hex-to-names\n",
    "def get_closest_color(rgb_triplet):\n",
    "    min_colours = {}\n",
    "    for key, name in webcolors.css3_hex_to_names.items():\n",
    "        r_c, g_c, b_c = webcolors.hex_to_rgb(key)\n",
    "        rd = (r_c - rgb_triplet[0]) ** 2\n",
    "        gd = (g_c - rgb_triplet[1]) ** 2\n",
    "        bd = (b_c - rgb_triplet[2]) ** 2\n",
    "        min_colours[(rd + gd + bd)] = name\n",
    "    return min_colours[min(min_colours.keys())]\n",
    "\n",
    "class CustomEncoder(json.JSONEncoder):\n",
    "    def default(self, obj):\n",
    "        if isinstance(obj, bytes):\n",
    "            return obj.decode('utf-8', 'ignore')\n",
    "        return super().default(obj)\n",
    "\n",
    "metadata = []\n",
    "\n",
    "# Parcourir les fichiers dans le répertoire d'images\n",
    "for filename in os.listdir(\"images\"):\n",
    "    if filename.endswith('.jpg') or filename.endswith('.JPG') or filename.endswith('.jpeg') or filename.endswith('.png'):\n",
    "        with Image.open(os.path.join(\"images\", filename)) as img:\n",
    "            json_path = os.path.join(\"metadata\", filename.replace(\".jpg\", \".json\").replace(\".JPG\", \".json\").replace(\".jpeg\", \".json\").replace(\".png\", \".json\"))\n",
    "            if os.path.exists(json_path):\n",
    "                with open(json_path, 'r') as f:\n",
    "                    existing_metadata = json.load(f)\n",
    "            # else:\n",
    "            #     existing_metadata = []\n",
    "\n",
    "            if 'dominated_colors_name' in existing_metadata.keys() :\n",
    "                print(\"Already treated\")\n",
    "                pass\n",
    "\n",
    "            exif_data = img.getexif()\n",
    "            exif = {}\n",
    "            if exif_data:\n",
    "                for tag, value in exif_data.items():\n",
    "                    decoded_tag = TAGS.get(tag, tag)\n",
    "                    if decoded_tag in exif_data_interested:\n",
    "                        exif[decoded_tag] = value\n",
    "\n",
    "            colors_dominated = getDominatedColors(img)\n",
    "            colors_dominated_name = []\n",
    "\n",
    "            print(colors_dominated)\n",
    "\n",
    "            for color in colors_dominated:\n",
    "                colors_dominated_name.append(get_closest_color(ImageColor.getcolor(color, \"RGB\")))\n",
    "\n",
    "\n",
    "\n",
    "            # Add the new metadata to the list\n",
    "            # print(existing_metadata)\n",
    "\n",
    "            existing_metadata['filename']= filename\n",
    "            existing_metadata['width']= img.width\n",
    "            existing_metadata['height']= img.height\n",
    "            existing_metadata['format']= img.format\n",
    "            existing_metadata['mode']= img.mode\n",
    "            existing_metadata['dominated_colors']= colors_dominated\n",
    "            existing_metadata['dominated_colors_name']= colors_dominated_name\n",
    "            existing_metadata['exif']= exif\n",
    "\n",
    "\n",
    "            # Save the metadata to a JSON file\n",
    "            with open(json_path, 'w') as f:\n",
    "                json.dump(existing_metadata, f, cls=CustomEncoder)"
   ]
  },
  {
   "cell_type": "code",
   "execution_count": null,
   "metadata": {},
   "outputs": [],
   "source": []
  },
  {
   "cell_type": "code",
   "execution_count": null,
   "metadata": {},
   "outputs": [],
   "source": []
  }
 ],
 "metadata": {
  "kernelspec": {
   "display_name": "Python 3 (ipykernel)",
   "language": "python",
   "name": "python3"
  },
  "language_info": {
   "codemirror_mode": {
    "name": "ipython",
    "version": 3
   },
   "file_extension": ".py",
   "mimetype": "text/x-python",
   "name": "python",
   "nbconvert_exporter": "python",
   "pygments_lexer": "ipython3",
   "version": "3.8.10"
  },
  "vscode": {
   "interpreter": {
    "hash": "31f2aee4e71d21fbe5cf8b01ff0e069b9275f58929596ceb00d14d90e3e16cd6"
   }
  }
 },
 "nbformat": 4,
 "nbformat_minor": 4
}
