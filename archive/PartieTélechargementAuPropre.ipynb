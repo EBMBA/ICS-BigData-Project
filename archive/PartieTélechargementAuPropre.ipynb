{
 "cells": [
  {
   "cell_type": "code",
   "execution_count": 1,
   "id": "4abaf806-5fbc-4a38-b108-248af968ab36",
   "metadata": {
    "tags": []
   },
   "outputs": [],
   "source": [
    "import sys\n",
    "import pandas as pd\n",
    "from SPARQLWrapper import SPARQLWrapper, JSON\n",
    "\n",
    "endpoint_url = \"https://query.wikidata.org/sparql\"\n",
    "\n",
    "# Get cities\n",
    "query = \"\"\"SELECT DISTINCT ?grandeville ?grandevilleLabel ?pays ?paysLabel ?image {\n",
    "  ?grandeville wdt:P31 wd:Q1549591;\n",
    "               wdt:P17 ?pays;\n",
    "               wdt:P18 ?image.\n",
    " SERVICE wikibase:label { bd:serviceParam wikibase:language \"fr\". }\n",
    "}\n",
    "LIMIT 10\"\"\"\n",
    "\n",
    "\n",
    "def get_results(endpoint_url, query):\n",
    "    user_agent = \"WDQS-example Python/%s.%s\" % (\n",
    "        sys.version_info[0],\n",
    "        sys.version_info[1],\n",
    "    )\n",
    "    sparql = SPARQLWrapper(endpoint_url, agent=user_agent)\n",
    "    sparql.setQuery(query)\n",
    "    sparql.setReturnFormat(JSON)\n",
    "    return sparql.query().convert()\n",
    "\n",
    "\n",
    "array = []\n",
    "results = get_results(endpoint_url, query)\n",
    "\n",
    "for result in results[\"results\"][\"bindings\"]:\n",
    "    array.append(\n",
    "        (\n",
    "            result[\"grandevilleLabel\"][\"value\"],\n",
    "            result[\"paysLabel\"][\"value\"],\n",
    "            result[\"image\"][\"value\"],\n",
    "        )\n",
    "    )"
   ]
  },
  {
   "cell_type": "code",
   "execution_count": 2,
   "id": "06778983-f59b-4951-8d94-c40a158580ed",
   "metadata": {
    "tags": []
   },
   "outputs": [
    {
     "data": {
      "text/html": [
       "<div>\n",
       "<style scoped>\n",
       "    .dataframe tbody tr th:only-of-type {\n",
       "        vertical-align: middle;\n",
       "    }\n",
       "\n",
       "    .dataframe tbody tr th {\n",
       "        vertical-align: top;\n",
       "    }\n",
       "\n",
       "    .dataframe thead th {\n",
       "        text-align: right;\n",
       "    }\n",
       "</style>\n",
       "<table border=\"1\" class=\"dataframe\">\n",
       "  <thead>\n",
       "    <tr style=\"text-align: right;\">\n",
       "      <th></th>\n",
       "      <th>ville</th>\n",
       "      <th>pays</th>\n",
       "      <th>image</th>\n",
       "    </tr>\n",
       "  </thead>\n",
       "  <tbody>\n",
       "    <tr>\n",
       "      <th>0</th>\n",
       "      <td>Krasnoïarsk</td>\n",
       "      <td>Russie</td>\n",
       "      <td>http://commons.wikimedia.org/wiki/Special:File...</td>\n",
       "    </tr>\n",
       "    <tr>\n",
       "      <th>1</th>\n",
       "      <td>São Paulo</td>\n",
       "      <td>Brésil</td>\n",
       "      <td>http://commons.wikimedia.org/wiki/Special:File...</td>\n",
       "    </tr>\n",
       "    <tr>\n",
       "      <th>2</th>\n",
       "      <td>Boston</td>\n",
       "      <td>États-Unis</td>\n",
       "      <td>http://commons.wikimedia.org/wiki/Special:File...</td>\n",
       "    </tr>\n",
       "    <tr>\n",
       "      <th>3</th>\n",
       "      <td>Le Caire</td>\n",
       "      <td>Égypte</td>\n",
       "      <td>http://commons.wikimedia.org/wiki/Special:File...</td>\n",
       "    </tr>\n",
       "    <tr>\n",
       "      <th>4</th>\n",
       "      <td>Szczecin</td>\n",
       "      <td>Pologne</td>\n",
       "      <td>http://commons.wikimedia.org/wiki/Special:File...</td>\n",
       "    </tr>\n",
       "    <tr>\n",
       "      <th>5</th>\n",
       "      <td>Tomsk</td>\n",
       "      <td>Russie</td>\n",
       "      <td>http://commons.wikimedia.org/wiki/Special:File...</td>\n",
       "    </tr>\n",
       "    <tr>\n",
       "      <th>6</th>\n",
       "      <td>Katowice</td>\n",
       "      <td>République populaire de Pologne</td>\n",
       "      <td>http://commons.wikimedia.org/wiki/Special:File...</td>\n",
       "    </tr>\n",
       "    <tr>\n",
       "      <th>7</th>\n",
       "      <td>Ville de Bruxelles</td>\n",
       "      <td>Belgique</td>\n",
       "      <td>http://commons.wikimedia.org/wiki/Special:File...</td>\n",
       "    </tr>\n",
       "    <tr>\n",
       "      <th>8</th>\n",
       "      <td>Gênes</td>\n",
       "      <td>Italie</td>\n",
       "      <td>http://commons.wikimedia.org/wiki/Special:File...</td>\n",
       "    </tr>\n",
       "    <tr>\n",
       "      <th>9</th>\n",
       "      <td>Groningue</td>\n",
       "      <td>Pays-Bas</td>\n",
       "      <td>http://commons.wikimedia.org/wiki/Special:File...</td>\n",
       "    </tr>\n",
       "  </tbody>\n",
       "</table>\n",
       "</div>"
      ],
      "text/plain": [
       "                ville                             pays  \\\n",
       "0         Krasnoïarsk                           Russie   \n",
       "1           São Paulo                           Brésil   \n",
       "2              Boston                       États-Unis   \n",
       "3            Le Caire                           Égypte   \n",
       "4            Szczecin                          Pologne   \n",
       "5               Tomsk                           Russie   \n",
       "6            Katowice  République populaire de Pologne   \n",
       "7  Ville de Bruxelles                         Belgique   \n",
       "8               Gênes                           Italie   \n",
       "9           Groningue                         Pays-Bas   \n",
       "\n",
       "                                               image  \n",
       "0  http://commons.wikimedia.org/wiki/Special:File...  \n",
       "1  http://commons.wikimedia.org/wiki/Special:File...  \n",
       "2  http://commons.wikimedia.org/wiki/Special:File...  \n",
       "3  http://commons.wikimedia.org/wiki/Special:File...  \n",
       "4  http://commons.wikimedia.org/wiki/Special:File...  \n",
       "5  http://commons.wikimedia.org/wiki/Special:File...  \n",
       "6  http://commons.wikimedia.org/wiki/Special:File...  \n",
       "7  http://commons.wikimedia.org/wiki/Special:File...  \n",
       "8  http://commons.wikimedia.org/wiki/Special:File...  \n",
       "9  http://commons.wikimedia.org/wiki/Special:File...  "
      ]
     },
     "execution_count": 2,
     "metadata": {},
     "output_type": "execute_result"
    }
   ],
   "source": [
    "dataframe = pd.DataFrame(array, columns=[\"ville\", \"pays\", \"image\"])\n",
    "dataframe = dataframe.astype(\n",
    "    dtype={\"ville\": \"<U200\", \"pays\": \"<U200\", \"image\": \"<U200\"}\n",
    ")\n",
    "dataframe"
   ]
  },
  {
   "cell_type": "code",
   "execution_count": 3,
   "id": "9fe7f6d7-aa72-40ec-a7d0-9f36b418752c",
   "metadata": {
    "tags": []
   },
   "outputs": [],
   "source": [
    "import requests\n",
    "import shutil\n",
    "import os\n",
    "\n",
    "\n",
    "def download_image(url):\n",
    "    if not os.path.exists(\"images\"):\n",
    "        os.mkdir(\"images\")\n",
    "    headers = {\"User-Agent\": \"Mozilla/5.0\"}\n",
    "    request = requests.get(url, allow_redirects=True, headers=headers, stream=True)\n",
    "    if request.status_code == 200:\n",
    "        filename = os.path.join(\"images\", os.path.basename(url))\n",
    "        print(filename)\n",
    "        \n",
    "        if len(filename) > 50:\n",
    "            return\n",
    "        \n",
    "        with open(filename, \"wb\") as image:\n",
    "            request.raw.decode_content = True\n",
    "            shutil.copyfileobj(request.raw, image)\n",
    "    return request.status_code"
   ]
  },
  {
   "cell_type": "code",
   "execution_count": 4,
   "id": "da146e4c-9114-460f-9370-41208b57115f",
   "metadata": {
    "tags": []
   },
   "outputs": [
    {
     "name": "stdout",
     "output_type": "stream",
     "text": [
      "images/Aerial%20view%20of%20Krasnoyarsk%201.jpg\n",
      "images/Sao%20Paulo%20Skyline%20in%20Brazil.jpg\n",
      "images/Boston%20Financial%20District%20skyline.jpg\n",
      "images/Kairo%20BW%201.jpg\n",
      "images/Szczecin%20aerial%203a.jpg\n",
      "images/Tomsk0293.JPG\n",
      "images/Katowice%20Rynek.jpg\n",
      "images/Brussels%20view%20from%20Mont%20des%20Arts%2C%20Brussels%2C%20Belgium%20%28cropped%29.jpg\n",
      "images/Genova%20panorama%20centro%20storico%20da%20villetta%20Di%20Negro.jpg\n",
      "images/Hoge%20der%20Aa2.jpg\n"
     ]
    },
    {
     "data": {
      "text/plain": [
       "0    200.0\n",
       "1    200.0\n",
       "2    200.0\n",
       "3    200.0\n",
       "4    200.0\n",
       "5    200.0\n",
       "6    200.0\n",
       "7      NaN\n",
       "8      NaN\n",
       "9    200.0\n",
       "Name: image, dtype: float64"
      ]
     },
     "execution_count": 4,
     "metadata": {},
     "output_type": "execute_result"
    }
   ],
   "source": [
    "dataframe.image.apply(download_image)"
   ]
  },
  {
   "cell_type": "code",
   "execution_count": 5,
   "id": "f45c3109-1d81-4bb6-9f77-a02f7c164a20",
   "metadata": {
    "tags": []
   },
   "outputs": [
    {
     "name": "stdout",
     "output_type": "stream",
     "text": [
      "<PIL.JpegImagePlugin.JpegImageFile image mode=RGB size=3008x2000 at 0x7F3C6CA850D0>\n",
      "<PIL.JpegImagePlugin.JpegImageFile image mode=RGB size=2816x2112 at 0x7F3C5513D130>\n",
      "<PIL.JpegImagePlugin.JpegImageFile image mode=RGB size=2196x1680 at 0x7F3C39166A60>\n",
      "<PIL.JpegImagePlugin.JpegImageFile image mode=RGB size=1024x682 at 0x7F3C39164700>\n",
      "<PIL.JpegImagePlugin.JpegImageFile image mode=RGB size=3000x2000 at 0x7F3C39164730>\n",
      "<PIL.JpegImagePlugin.JpegImageFile image mode=RGB size=4901x2536 at 0x7F3C39196FD0>\n",
      "<PIL.JpegImagePlugin.JpegImageFile image mode=RGB size=2272x1704 at 0x7F3C39199850>\n",
      "<PIL.JpegImagePlugin.JpegImageFile image mode=RGB size=4810x3186 at 0x7F3C39199BE0>\n"
     ]
    }
   ],
   "source": [
    "import os\n",
    "import json\n",
    "from PIL import Image\n",
    "from PIL.ExifTags import TAGS\n",
    "import numpy\n",
    "from sklearn.cluster import KMeans\n",
    "\n",
    "\n",
    "def getDominatedColors(imgfile):\n",
    "    # Parcourir les fichiers dans le répertoire d'images\n",
    "    print(imgfile)\n",
    "    numarray = numpy.array(imgfile.getdata(), numpy.uint8)\n",
    "    clusters = KMeans(n_clusters=4, n_init=2)\n",
    "    clusters.fit(numarray)\n",
    "    return clusters.cluster_centers_\n",
    "\n",
    "class CustomEncoder(json.JSONEncoder):\n",
    "    def default(self, obj):\n",
    "        if isinstance(obj, bytes):\n",
    "            return obj.decode('utf-8', 'ignore')\n",
    "        return super().default(obj)\n",
    "\n",
    "metadata = []\n",
    "i=0\n",
    "# Parcourir les fichiers dans le répertoire d'images\n",
    "for filename in os.listdir(\"images\"):\n",
    "    i+=1\n",
    "    if filename.endswith('.jpg') or filename.endswith('.JPG') or filename.endswith('.jpeg') or filename.endswith('.png'):\n",
    "        # Ouvrir l'image pour récupérer ses métadonnées\n",
    "        with Image.open(os.path.join(\"images\", filename)) as img:\n",
    "            # Récupérer les métadonnées de l'image\n",
    "            exif_data = img.getexif()\n",
    "            exif = {}\n",
    "            if exif_data:\n",
    "                for tag, value in exif_data.items():\n",
    "                    decoded_tag = TAGS.get(tag, tag)\n",
    "                    if isinstance(value, bytes):\n",
    "                        value = value.decode('utf-8', 'ignore')\n",
    "                    exif[decoded_tag] = value\n",
    "            metadata.append({\n",
    "                'filename': filename,\n",
    "                'width': img.width,\n",
    "                'height': img.height,\n",
    "                'format': img.format,\n",
    "                'mode': img.mode,\n",
    "                'dominated_color': getDominatedColors(img).tolist(),\n",
    "                'exif': exif\n",
    "            })\n",
    "    # if i==5:\n",
    "    #     break\n",
    "# Enregistrer les métadonnées dans un fichier JSON\n",
    "with open('metadata.json', 'w') as f:\n",
    "    json.dump(metadata, f, cls=CustomEncoder)\n",
    "\n"
   ]
  },
  {
   "cell_type": "markdown",
   "id": "54e3130a",
   "metadata": {},
   "source": [
    "**Création de groupe d'image et ajout dans les metadata de leurs groupes**"
   ]
  },
  {
   "cell_type": "code",
   "execution_count": null,
   "id": "42f3c9db-ce9e-4acf-b5fd-66871dc0c1d2",
   "metadata": {},
   "outputs": [],
   "source": []
  }
 ],
 "metadata": {
  "kernelspec": {
   "display_name": "Python 3 (ipykernel)",
   "language": "python",
   "name": "python3"
  },
  "language_info": {
   "codemirror_mode": {
    "name": "ipython",
    "version": 3
   },
   "file_extension": ".py",
   "mimetype": "text/x-python",
   "name": "python",
   "nbconvert_exporter": "python",
   "pygments_lexer": "ipython3",
   "version": "3.8.10"
  },
  "vscode": {
   "interpreter": {
    "hash": "31f2aee4e71d21fbe5cf8b01ff0e069b9275f58929596ceb00d14d90e3e16cd6"
   }
  }
 },
 "nbformat": 4,
 "nbformat_minor": 5
}
