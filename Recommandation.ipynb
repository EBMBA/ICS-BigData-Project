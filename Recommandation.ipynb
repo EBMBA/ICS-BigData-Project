{
 "cells": [
  {
   "cell_type": "code",
   "execution_count": 2,
   "id": "75c090ac-42c6-4aac-9361-b8fa16b5107b",
   "metadata": {
    "tags": []
   },
   "outputs": [
    {
     "name": "stdout",
     "output_type": "stream",
     "text": [
      "Defaulting to user installation because normal site-packages is not writeable\n",
      "Requirement already satisfied: scikit-learn in /home/user/.local/lib/python3.8/site-packages (1.2.1)\n",
      "Requirement already satisfied: threadpoolctl>=2.0.0 in /home/user/.local/lib/python3.8/site-packages (from scikit-learn) (3.1.0)\n",
      "Requirement already satisfied: joblib>=1.1.1 in /home/user/.local/lib/python3.8/site-packages (from scikit-learn) (1.2.0)\n",
      "Requirement already satisfied: numpy>=1.17.3 in /home/user/.local/lib/python3.8/site-packages (from scikit-learn) (1.23.0)\n",
      "Requirement already satisfied: scipy>=1.3.2 in /home/user/.local/lib/python3.8/site-packages (from scikit-learn) (1.10.0)\n",
      "\n",
      "\u001b[1m[\u001b[0m\u001b[34;49mnotice\u001b[0m\u001b[1;39;49m]\u001b[0m\u001b[39;49m A new release of pip is available: \u001b[0m\u001b[31;49m23.0\u001b[0m\u001b[39;49m -> \u001b[0m\u001b[32;49m23.1\u001b[0m\n",
      "\u001b[1m[\u001b[0m\u001b[34;49mnotice\u001b[0m\u001b[1;39;49m]\u001b[0m\u001b[39;49m To update, run: \u001b[0m\u001b[32;49mpython3 -m pip install --upgrade pip\u001b[0m\n"
     ]
    }
   ],
   "source": [
    "!pip install scikit-learn\n",
    "!pip install pandas"
   ]
  },
  {
   "cell_type": "code",
   "execution_count": 1,
   "id": "e719ff52-9a26-47c8-937b-5d1725266716",
   "metadata": {
    "tags": []
   },
   "outputs": [],
   "source": [
    "import json\n",
    "\n",
    "def read_preferences(file_path):\n",
    "    with open(file_path, \"r\") as f:\n",
    "        data = json.load(f)\n",
    "        return data[\"user\"][\"preferences\"]"
   ]
  },
  {
   "cell_type": "code",
   "execution_count": 2,
   "id": "63fded53-9dc6-4cca-88e3-aa464be28d08",
   "metadata": {
    "tags": []
   },
   "outputs": [],
   "source": [
    "preferences = read_preferences('./user_data.json')"
   ]
  },
  {
   "cell_type": "code",
   "execution_count": 3,
   "id": "50c9fe4c-7c67-4aca-96ee-46aecdc2096e",
   "metadata": {
    "tags": []
   },
   "outputs": [],
   "source": [
    "from sklearn import tree\n",
    "import pandas as pd\n",
    "from sklearn.ensemble import RandomForestClassifier\n",
    "from sklearn.preprocessing import LabelEncoder"
   ]
  },
  {
   "cell_type": "code",
   "execution_count": 4,
   "id": "7bdba202-d12a-4ca1-a4e3-c66c1c3960b6",
   "metadata": {
    "tags": []
   },
   "outputs": [],
   "source": [
    "#Generate input based on user preference\n",
    "def generate_input():\n",
    "    preferences = read_preferences('./user_data.json')\n",
    "    data = []\n",
    "\n",
    "    for family, location, color in zip(preferences['favorite']['family'], preferences['favorite']['location'], preferences['favorite']['dominated_colors_name']):\n",
    "        data.append([family, location, color])\n",
    "    for family, location, color in zip(preferences['not_favorite']['family'], preferences['not_favorite']['location'], preferences['not_favorite']['dominated_colors_name']):\n",
    "        data.append([family, location, color])\n",
    "\n",
    "    result = ['favorite'] * 10 + ['not_favorite'] * 10\n",
    "    return data, result\n"
   ]
  },
  {
   "cell_type": "code",
   "execution_count": 44,
   "id": "ebdd9478-9116-4c27-a4e6-a955dc09b567",
   "metadata": {
    "tags": []
   },
   "outputs": [],
   "source": [
    "import random\n",
    "def predict_favorite(family, location, dominated_colors_name ):\n",
    "    \n",
    "    data, result = generate_input()\n",
    "    \n",
    "    families = set(x[0] for x in data)\n",
    "    locations = set(x[1] for x in data)\n",
    "    colors = set(x[2] for x in data)\n",
    "\n",
    "    \n",
    "    # if the user input have not been used in the dataset we get random values from \n",
    "    if family not in families:\n",
    "        family = random.choice(list(families))\n",
    "    if location not in locations:\n",
    "        location = random.choice(list(locations))\n",
    "    \n",
    "    if dominated_colors_name not in colors:\n",
    "        dominated_colors_name = random.choice(list(colors))\n",
    "    \n",
    "    dataframe = pd.DataFrame(data, columns=['family', 'location', 'dominated_colors_name'])\n",
    "    resultframe = pd.DataFrame(result, columns=['favorite'])\n",
    "\n",
    "    #generating numerical labels\n",
    "    le1 = LabelEncoder()\n",
    "    dataframe['family'] = le1.fit_transform(dataframe['family'])\n",
    "\n",
    "    le2 = LabelEncoder()\n",
    "    dataframe['location'] = le2.fit_transform(dataframe['location'])\n",
    "\n",
    "    le3 = LabelEncoder()\n",
    "    dataframe['dominated_colors_name'] = le3.fit_transform(dataframe['dominated_colors_name'])\n",
    "\n",
    "    le4 = LabelEncoder()\n",
    "    resultframe['favorite'] = le4.fit_transform(resultframe['favorite'])\n",
    "\n",
    "    rfc = RandomForestClassifier(n_estimators=10, max_depth=2,\n",
    "                      random_state=0)\n",
    "    rfc = rfc.fit(dataframe, resultframe.values.ravel())\n",
    "\n",
    "    prediction = rfc.predict([[le1.transform([family])[0], le2.transform([location])[0], le3.transform([dominated_colors_name])[0]]])\n",
    "\n",
    "    return le4.inverse_transform(prediction)[0]"
   ]
  },
  {
   "cell_type": "code",
   "execution_count": 45,
   "id": "4be60fa6-566c-411f-84b1-f20afb3a2359",
   "metadata": {
    "tags": []
   },
   "outputs": [
    {
     "name": "stdout",
     "output_type": "stream",
     "text": [
      "[['Onoserideae', 'South America', 'snow'], ['Notocacteae', 'South America', 'dimgrey'], ['Plantaginaceae', 'South America', 'darkslategrey'], ['Bombacoideae', 'South America', 'darkkhaki'], ['Gladiolus', 'Switzerland', 'darkolivegreen'], ['Armeria', 'South America', 'darkkhaki'], ['Sapindaceae', 'Africa', 'silver'], ['Canis', 'United States of America', 'darkolivegreen'], ['Vochysiaceae', 'South America', 'darkolivegreen'], ['Browningia', 'South America', 'grey'], ['Notocacteae', 'South America', 'black'], ['Nardeae', 'Europe', 'darkkhaki'], ['Anaxeton', 'Africa', 'darkgrey'], ['Bunium', 'Switzerland', 'darkolivegreen'], ['Proteaceae', 'South America', 'lightgrey'], ['Cervus', 'United States of America', 'darkolivegreen'], ['Rusa', 'United States of America', 'black'], ['Alopecurus', 'South America', 'darkseagreen'], ['Malveae', 'South America', 'gainsboro'], ['Poaceae', 'South America', 'dimgrey']]\n",
      "['favorite', 'favorite', 'favorite', 'favorite', 'favorite', 'favorite', 'favorite', 'favorite', 'favorite', 'favorite', 'not_favorite', 'not_favorite', 'not_favorite', 'not_favorite', 'not_favorite', 'not_favorite', 'not_favorite', 'not_favorite', 'not_favorite', 'not_favorite']\n",
      "favorite\n"
     ]
    },
    {
     "name": "stderr",
     "output_type": "stream",
     "text": [
      "/home/user/.local/lib/python3.8/site-packages/sklearn/base.py:420: UserWarning: X does not have valid feature names, but RandomForestClassifier was fitted with feature names\n",
      "  warnings.warn(\n"
     ]
    }
   ],
   "source": [
    "print(predict_favorite('Onoserideae','South America','snow'))\n",
    "print(predict_favorite('Asteraceae','Greece','darkslategrey'))"
   ]
  },
  {
   "cell_type": "code",
   "execution_count": 52,
   "id": "c2f21445",
   "metadata": {},
   "outputs": [
    {
     "name": "stderr",
     "output_type": "stream",
     "text": [
      "/home/user/.local/lib/python3.8/site-packages/sklearn/base.py:420: UserWarning: X does not have valid feature names, but RandomForestClassifier was fitted with feature names\n",
      "  warnings.warn(\n",
      "/home/user/.local/lib/python3.8/site-packages/sklearn/base.py:420: UserWarning: X does not have valid feature names, but RandomForestClassifier was fitted with feature names\n",
      "  warnings.warn(\n"
     ]
    }
   ],
   "source": [
    "# Test with known data that are not randomized to do assertion on the outputs\n",
    "def predict_favorite(family, location, dominated_colors_name ):\n",
    "    \n",
    "    data = [['Onoserideae', 'South America', 'snow'], ['Notocacteae', 'South America', 'dimgrey'], ['Plantaginaceae', 'South America', 'darkslategrey'], ['Bombacoideae', 'South America', 'darkkhaki'], ['Gladiolus', 'Switzerland', 'darkolivegreen'], ['Armeria', 'South America', 'darkkhaki'], ['Sapindaceae', 'Africa', 'silver'], ['Canis', 'United States of America', 'darkolivegreen'], ['Vochysiaceae', 'South America', 'darkolivegreen'], ['Browningia', 'South America', 'grey'], ['Notocacteae', 'South America', 'black'], ['Nardeae', 'Europe', 'darkkhaki'], ['Anaxeton', 'Africa', 'darkgrey'], ['Bunium', 'Switzerland', 'darkolivegreen'], ['Proteaceae', 'South America', 'lightgrey'], ['Cervus', 'United States of America', 'darkolivegreen'], ['Rusa', 'United States of America', 'black'], ['Alopecurus', 'South America', 'darkseagreen'], ['Malveae', 'South America', 'gainsboro'], ['Poaceae', 'South America', 'dimgrey']]\n",
    "    result = ['favorite', 'favorite', 'favorite', 'favorite', 'favorite', 'favorite', 'favorite', 'favorite', 'favorite', 'favorite', 'not_favorite', 'not_favorite', 'not_favorite', 'not_favorite', 'not_favorite', 'not_favorite', 'not_favorite', 'not_favorite', 'not_favorite', 'not_favorite']\n",
    "    \n",
    "    families = set(x[0] for x in data)\n",
    "    locations = set(x[1] for x in data)\n",
    "    colors = set(x[2] for x in data)\n",
    "\n",
    "    \n",
    "    # if the user input have not been used in the dataset we get random values from \n",
    "    if family not in families:\n",
    "        family = random.choice(list(families))\n",
    "    if location not in locations:\n",
    "        location = random.choice(list(locations))\n",
    "    \n",
    "    if dominated_colors_name not in colors:\n",
    "        dominated_colors_name = random.choice(list(colors))\n",
    "    \n",
    "    dataframe = pd.DataFrame(data, columns=['family', 'location', 'dominated_colors_name'])\n",
    "    resultframe = pd.DataFrame(result, columns=['favorite'])\n",
    "\n",
    "    #generating numerical labels\n",
    "    le1 = LabelEncoder()\n",
    "    dataframe['family'] = le1.fit_transform(dataframe['family'])\n",
    "\n",
    "    le2 = LabelEncoder()\n",
    "    dataframe['location'] = le2.fit_transform(dataframe['location'])\n",
    "\n",
    "    le3 = LabelEncoder()\n",
    "    dataframe['dominated_colors_name'] = le3.fit_transform(dataframe['dominated_colors_name'])\n",
    "\n",
    "    le4 = LabelEncoder()\n",
    "    resultframe['favorite'] = le4.fit_transform(resultframe['favorite'])\n",
    "\n",
    "    rfc = RandomForestClassifier(n_estimators=10, max_depth=2,\n",
    "                      random_state=0)\n",
    "    rfc = rfc.fit(dataframe, resultframe.values.ravel())\n",
    "\n",
    "    prediction = rfc.predict([[le1.transform([family])[0], le2.transform([location])[0], le3.transform([dominated_colors_name])[0]]])\n",
    "\n",
    "    return le4.inverse_transform(prediction)[0]\n",
    "\n",
    "assert predict_favorite('Onoserideae','South America','snow') == 'favorite' \n",
    "assert predict_favorite('Poaceae','South America','dimgrey') == 'not_favorite'"
   ]
  },
  {
   "cell_type": "code",
   "execution_count": null,
   "id": "23369d10",
   "metadata": {},
   "outputs": [],
   "source": []
  },
  {
   "cell_type": "code",
   "execution_count": null,
   "id": "9b495bec",
   "metadata": {},
   "outputs": [],
   "source": []
  }
 ],
 "metadata": {
  "kernelspec": {
   "display_name": "Python 3.8.10 64-bit",
   "language": "python",
   "name": "python3"
  },
  "language_info": {
   "codemirror_mode": {
    "name": "ipython",
    "version": 3
   },
   "file_extension": ".py",
   "mimetype": "text/x-python",
   "name": "python",
   "nbconvert_exporter": "python",
   "pygments_lexer": "ipython3",
   "version": "3.8.10"
  },
  "vscode": {
   "interpreter": {
    "hash": "31f2aee4e71d21fbe5cf8b01ff0e069b9275f58929596ceb00d14d90e3e16cd6"
   }
  }
 },
 "nbformat": 4,
 "nbformat_minor": 5
}
