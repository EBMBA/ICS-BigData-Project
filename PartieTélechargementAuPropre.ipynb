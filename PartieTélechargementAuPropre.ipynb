{
 "cells": [
  {
   "cell_type": "code",
   "execution_count": null,
   "id": "4abaf806-5fbc-4a38-b108-248af968ab36",
   "metadata": {
    "tags": []
   },
   "outputs": [],
   "source": [
    "import sys\n",
    "import pandas as pd\n",
    "from SPARQLWrapper import SPARQLWrapper, JSON\n",
    "\n",
    "endpoint_url = \"https://query.wikidata.org/sparql\"\n",
    "\n",
    "# Get cities\n",
    "query = \"\"\"SELECT DISTINCT ?grandeville ?grandevilleLabel ?pays ?paysLabel ?image {\n",
    "  ?grandeville wdt:P31 wd:Q1549591;\n",
    "               wdt:P17 ?pays;\n",
    "               wdt:P18 ?image.\n",
    " SERVICE wikibase:label { bd:serviceParam wikibase:language \"fr\". }\n",
    "}\n",
    "LIMIT 10\"\"\"\n",
    "\n",
    "\n",
    "def get_results(endpoint_url, query):\n",
    "    user_agent = \"WDQS-example Python/%s.%s\" % (\n",
    "        sys.version_info[0],\n",
    "        sys.version_info[1],\n",
    "    )\n",
    "    sparql = SPARQLWrapper(endpoint_url, agent=user_agent)\n",
    "    sparql.setQuery(query)\n",
    "    sparql.setReturnFormat(JSON)\n",
    "    return sparql.query().convert()\n",
    "\n",
    "\n",
    "array = []\n",
    "results = get_results(endpoint_url, query)\n",
    "\n",
    "for result in results[\"results\"][\"bindings\"]:\n",
    "    array.append(\n",
    "        (\n",
    "            result[\"grandevilleLabel\"][\"value\"],\n",
    "            result[\"paysLabel\"][\"value\"],\n",
    "            result[\"image\"][\"value\"],\n",
    "        )\n",
    "    )"
   ]
  },
  {
   "cell_type": "code",
   "execution_count": null,
   "id": "06778983-f59b-4951-8d94-c40a158580ed",
   "metadata": {
    "tags": []
   },
   "outputs": [],
   "source": [
    "dataframe = pd.DataFrame(array, columns=[\"ville\", \"pays\", \"image\"])\n",
    "dataframe = dataframe.astype(\n",
    "    dtype={\"ville\": \"<U200\", \"pays\": \"<U200\", \"image\": \"<U200\"}\n",
    ")\n",
    "dataframe"
   ]
  },
  {
   "cell_type": "code",
   "execution_count": null,
   "id": "9fe7f6d7-aa72-40ec-a7d0-9f36b418752c",
   "metadata": {
    "tags": []
   },
   "outputs": [],
   "source": [
    "import requests\n",
    "import shutil\n",
    "import os\n",
    "\n",
    "\n",
    "def download_image(url):\n",
    "    if not os.path.exists(\"images\"):\n",
    "        os.mkdir(\"images\")\n",
    "    headers = {\"User-Agent\": \"Mozilla/5.0\"}\n",
    "    request = requests.get(url, allow_redirects=True, headers=headers, stream=True)\n",
    "    if request.status_code == 200:\n",
    "        filename = os.path.join(\"images\", os.path.basename(url))\n",
    "        print(filename)\n",
    "        \n",
    "        if len(filename) > 50:\n",
    "            return\n",
    "        \n",
    "        with open(filename, \"wb\") as image:\n",
    "            request.raw.decode_content = True\n",
    "            shutil.copyfileobj(request.raw, image)\n",
    "    return request.status_code"
   ]
  },
  {
   "cell_type": "code",
   "execution_count": null,
   "id": "da146e4c-9114-460f-9370-41208b57115f",
   "metadata": {
    "tags": []
   },
   "outputs": [],
   "source": [
    "dataframe.image.apply(download_image)"
   ]
  },
  {
   "cell_type": "code",
   "execution_count": null,
   "id": "f45c3109-1d81-4bb6-9f77-a02f7c164a20",
   "metadata": {
    "tags": []
   },
   "outputs": [],
   "source": [
    "import os\n",
    "import json\n",
    "from PIL import Image\n",
    "from PIL.ExifTags import TAGS\n",
    "import numpy\n",
    "from sklearn.cluster import KMeans\n",
    "\n",
    "\n",
    "def getDominatedColors(imgfile):\n",
    "    # Parcourir les fichiers dans le répertoire d'images\n",
    "    print(imgfile)\n",
    "    numarray = numpy.array(imgfile.getdata(), numpy.uint8)\n",
    "    clusters = KMeans(n_clusters=4, n_init=2)\n",
    "    clusters.fit(numarray)\n",
    "    return clusters.cluster_centers_\n",
    "\n",
    "class CustomEncoder(json.JSONEncoder):\n",
    "    def default(self, obj):\n",
    "        if isinstance(obj, bytes):\n",
    "            return obj.decode('utf-8', 'ignore')\n",
    "        return super().default(obj)\n",
    "\n",
    "metadata = []\n",
    "i=0\n",
    "# Parcourir les fichiers dans le répertoire d'images\n",
    "for filename in os.listdir(\"images\"):\n",
    "    i+=1\n",
    "    if filename.endswith('.jpg') or filename.endswith('.JPG') or filename.endswith('.jpeg') or filename.endswith('.png'):\n",
    "        # Ouvrir l'image pour récupérer ses métadonnées\n",
    "        with Image.open(os.path.join(\"images\", filename)) as img:\n",
    "            # Récupérer les métadonnées de l'image\n",
    "            exif_data = img.getexif()\n",
    "            exif = {}\n",
    "            if exif_data:\n",
    "                for tag, value in exif_data.items():\n",
    "                    decoded_tag = TAGS.get(tag, tag)\n",
    "                    if isinstance(value, bytes):\n",
    "                        value = value.decode('utf-8', 'ignore')\n",
    "                    exif[decoded_tag] = value\n",
    "            metadata.append({\n",
    "                'filename': filename,\n",
    "                'width': img.width,\n",
    "                'height': img.height,\n",
    "                'format': img.format,\n",
    "                'mode': img.mode,\n",
    "                'dominated_color': getDominatedColors(img).tolist(),\n",
    "                'exif': exif\n",
    "            })\n",
    "    # if i==5:\n",
    "    #     break\n",
    "# Enregistrer les métadonnées dans un fichier JSON\n",
    "with open('metadata.json', 'w') as f:\n",
    "    json.dump(metadata, f, cls=CustomEncoder)\n",
    "\n"
   ]
  },
  {
   "attachments": {},
   "cell_type": "markdown",
   "id": "54e3130a",
   "metadata": {},
   "source": [
    "**Création de groupe d'image et ajout dans les metadata de leurs groupes**"
   ]
  },
  {
   "cell_type": "code",
   "execution_count": null,
   "id": "42f3c9db-ce9e-4acf-b5fd-66871dc0c1d2",
   "metadata": {},
   "outputs": [],
   "source": []
  }
 ],
 "metadata": {
  "kernelspec": {
   "display_name": "Python 3",
   "language": "python",
   "name": "python3"
  },
  "language_info": {
   "codemirror_mode": {
    "name": "ipython",
    "version": 3
   },
   "file_extension": ".py",
   "mimetype": "text/x-python",
   "name": "python",
   "nbconvert_exporter": "python",
   "pygments_lexer": "ipython3",
   "version": "3.8.10"
  },
  "vscode": {
   "interpreter": {
    "hash": "31f2aee4e71d21fbe5cf8b01ff0e069b9275f58929596ceb00d14d90e3e16cd6"
   }
  }
 },
 "nbformat": 4,
 "nbformat_minor": 5
}
