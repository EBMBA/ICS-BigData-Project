{
 "cells": [
  {
   "cell_type": "code",
   "execution_count": 1,
   "id": "4abaf806-5fbc-4a38-b108-248af968ab36",
   "metadata": {
    "tags": []
   },
   "outputs": [],
   "source": [
    "import sys\n",
    "import pandas as pd\n",
    "from SPARQLWrapper import SPARQLWrapper, JSON\n",
    "\n",
    "endpoint_url = \"https://query.wikidata.org/sparql\"\n",
    "\n",
    "# Get cities\n",
    "query = \"\"\"SELECT DISTINCT ?grandeville ?grandevilleLabel ?pays ?paysLabel ?image {\n",
    "  ?grandeville wdt:P31 wd:Q1549591;\n",
    "               wdt:P17 ?pays;\n",
    "               wdt:P18 ?image.\n",
    " SERVICE wikibase:label { bd:serviceParam wikibase:language \"fr\". }\n",
    "}\n",
    "LIMIT 10\"\"\"\n",
    "\n",
    "\n",
    "def get_results(endpoint_url, query):\n",
    "    user_agent = \"WDQS-example Python/%s.%s\" % (\n",
    "        sys.version_info[0],\n",
    "        sys.version_info[1],\n",
    "    )\n",
    "    sparql = SPARQLWrapper(endpoint_url, agent=user_agent)\n",
    "    sparql.setQuery(query)\n",
    "    sparql.setReturnFormat(JSON)\n",
    "    return sparql.query().convert()\n",
    "\n",
    "\n",
    "array = []\n",
    "results = get_results(endpoint_url, query)\n",
    "\n",
    "for result in results[\"results\"][\"bindings\"]:\n",
    "    array.append(\n",
    "        (\n",
    "            result[\"grandevilleLabel\"][\"value\"],\n",
    "            result[\"paysLabel\"][\"value\"],\n",
    "            result[\"image\"][\"value\"],\n",
    "        )\n",
    "    )"
   ]
  },
  {
   "cell_type": "code",
   "execution_count": 2,
   "id": "06778983-f59b-4951-8d94-c40a158580ed",
   "metadata": {
    "tags": []
   },
   "outputs": [
    {
     "data": {
      "text/html": [
       "<div>\n",
       "<style scoped>\n",
       "    .dataframe tbody tr th:only-of-type {\n",
       "        vertical-align: middle;\n",
       "    }\n",
       "\n",
       "    .dataframe tbody tr th {\n",
       "        vertical-align: top;\n",
       "    }\n",
       "\n",
       "    .dataframe thead th {\n",
       "        text-align: right;\n",
       "    }\n",
       "</style>\n",
       "<table border=\"1\" class=\"dataframe\">\n",
       "  <thead>\n",
       "    <tr style=\"text-align: right;\">\n",
       "      <th></th>\n",
       "      <th>ville</th>\n",
       "      <th>pays</th>\n",
       "      <th>image</th>\n",
       "    </tr>\n",
       "  </thead>\n",
       "  <tbody>\n",
       "    <tr>\n",
       "      <th>0</th>\n",
       "      <td>Dakar</td>\n",
       "      <td>Sénégal</td>\n",
       "      <td>http://commons.wikimedia.org/wiki/Special:File...</td>\n",
       "    </tr>\n",
       "    <tr>\n",
       "      <th>1</th>\n",
       "      <td>Addis-Abeba</td>\n",
       "      <td>Éthiopie</td>\n",
       "      <td>http://commons.wikimedia.org/wiki/Special:File...</td>\n",
       "    </tr>\n",
       "    <tr>\n",
       "      <th>2</th>\n",
       "      <td>Tripoli</td>\n",
       "      <td>Libye</td>\n",
       "      <td>http://commons.wikimedia.org/wiki/Special:File...</td>\n",
       "    </tr>\n",
       "    <tr>\n",
       "      <th>3</th>\n",
       "      <td>Asmara</td>\n",
       "      <td>Érythrée</td>\n",
       "      <td>http://commons.wikimedia.org/wiki/Special:File...</td>\n",
       "    </tr>\n",
       "    <tr>\n",
       "      <th>4</th>\n",
       "      <td>Neuss</td>\n",
       "      <td>Allemagne</td>\n",
       "      <td>http://commons.wikimedia.org/wiki/Special:File...</td>\n",
       "    </tr>\n",
       "    <tr>\n",
       "      <th>5</th>\n",
       "      <td>Göttingen</td>\n",
       "      <td>Allemagne</td>\n",
       "      <td>http://commons.wikimedia.org/wiki/Special:File...</td>\n",
       "    </tr>\n",
       "    <tr>\n",
       "      <th>6</th>\n",
       "      <td>Chillán</td>\n",
       "      <td>Chili</td>\n",
       "      <td>http://commons.wikimedia.org/wiki/Special:File...</td>\n",
       "    </tr>\n",
       "    <tr>\n",
       "      <th>7</th>\n",
       "      <td>Witten</td>\n",
       "      <td>Allemagne</td>\n",
       "      <td>http://commons.wikimedia.org/wiki/Special:File...</td>\n",
       "    </tr>\n",
       "    <tr>\n",
       "      <th>8</th>\n",
       "      <td>Praia</td>\n",
       "      <td>Cap-Vert</td>\n",
       "      <td>http://commons.wikimedia.org/wiki/Special:File...</td>\n",
       "    </tr>\n",
       "    <tr>\n",
       "      <th>9</th>\n",
       "      <td>Tambov</td>\n",
       "      <td>Russie</td>\n",
       "      <td>http://commons.wikimedia.org/wiki/Special:File...</td>\n",
       "    </tr>\n",
       "  </tbody>\n",
       "</table>\n",
       "</div>"
      ],
      "text/plain": [
       "         ville       pays                                              image\n",
       "0        Dakar    Sénégal  http://commons.wikimedia.org/wiki/Special:File...\n",
       "1  Addis-Abeba   Éthiopie  http://commons.wikimedia.org/wiki/Special:File...\n",
       "2      Tripoli      Libye  http://commons.wikimedia.org/wiki/Special:File...\n",
       "3       Asmara   Érythrée  http://commons.wikimedia.org/wiki/Special:File...\n",
       "4        Neuss  Allemagne  http://commons.wikimedia.org/wiki/Special:File...\n",
       "5    Göttingen  Allemagne  http://commons.wikimedia.org/wiki/Special:File...\n",
       "6      Chillán      Chili  http://commons.wikimedia.org/wiki/Special:File...\n",
       "7       Witten  Allemagne  http://commons.wikimedia.org/wiki/Special:File...\n",
       "8        Praia   Cap-Vert  http://commons.wikimedia.org/wiki/Special:File...\n",
       "9       Tambov     Russie  http://commons.wikimedia.org/wiki/Special:File..."
      ]
     },
     "execution_count": 2,
     "metadata": {},
     "output_type": "execute_result"
    }
   ],
   "source": [
    "dataframe = pd.DataFrame(array, columns=[\"ville\", \"pays\", \"image\"])\n",
    "dataframe = dataframe.astype(\n",
    "    dtype={\"ville\": \"<U200\", \"pays\": \"<U200\", \"image\": \"<U200\"}\n",
    ")\n",
    "dataframe"
   ]
  },
  {
   "cell_type": "code",
   "execution_count": 3,
   "id": "9fe7f6d7-aa72-40ec-a7d0-9f36b418752c",
   "metadata": {
    "tags": []
   },
   "outputs": [],
   "source": [
    "import requests\n",
    "import shutil\n",
    "import os\n",
    "\n",
    "\n",
    "def download_image(url):\n",
    "    if not os.path.exists(\"images\"):\n",
    "        os.mkdir(\"images\")\n",
    "    headers = {\"User-Agent\": \"Mozilla/5.0\"}\n",
    "    request = requests.get(url, allow_redirects=True, headers=headers, stream=True)\n",
    "    if request.status_code == 200:\n",
    "        filename = os.path.join(\"images\", os.path.basename(url))\n",
    "        print(filename)\n",
    "        \n",
    "        if len(filename) > 50:\n",
    "            return\n",
    "        \n",
    "        with open(filename, \"wb\") as image:\n",
    "            request.raw.decode_content = True\n",
    "            shutil.copyfileobj(request.raw, image)\n",
    "    return request.status_code"
   ]
  },
  {
   "cell_type": "code",
   "execution_count": 4,
   "id": "da146e4c-9114-460f-9370-41208b57115f",
   "metadata": {
    "tags": []
   },
   "outputs": [
    {
     "name": "stdout",
     "output_type": "stream",
     "text": [
      "images/Pointe%20des%20Almadies%20-%20Senegal.jpg\n",
      "images/Addis%20abeba%20meskele%20square.jpg\n",
      "images/Marcus%20Aurelius%20Arch%20Tripoli%20Libya.jpg\n",
      "images/Asmara2.jpg\n",
      "images/Neuss%2C%20Rathaus%202008.JPG\n",
      "images/Goettingen%20Marktplatz%20Oct06%20Antilived.jpg\n",
      "images/Ciudad%20de%20Chill%C3%A1n.png\n",
      "images/Witten%2020090218.jpg\n",
      "images/Praia%20Harbor.jpg\n",
      "images/Tambov%20TransgfigurationCathedral%20101%200477.jpg\n"
     ]
    },
    {
     "data": {
      "text/plain": [
       "0    200.0\n",
       "1    200.0\n",
       "2      NaN\n",
       "3    200.0\n",
       "4    200.0\n",
       "5      NaN\n",
       "6    200.0\n",
       "7    200.0\n",
       "8    200.0\n",
       "9      NaN\n",
       "Name: image, dtype: float64"
      ]
     },
     "execution_count": 4,
     "metadata": {},
     "output_type": "execute_result"
    }
   ],
   "source": [
    "dataframe.image.apply(download_image)"
   ]
  },
  {
   "cell_type": "code",
   "execution_count": 5,
   "id": "f45c3109-1d81-4bb6-9f77-a02f7c164a20",
   "metadata": {
    "tags": []
   },
   "outputs": [],
   "source": [
    "import os\n",
    "import json\n",
    "from PIL import Image\n",
    "from PIL.ExifTags import TAGS\n",
    "\n",
    "class CustomEncoder(json.JSONEncoder):\n",
    "    def default(self, obj):\n",
    "        if isinstance(obj, bytes):\n",
    "            return obj.decode('utf-8', 'ignore')\n",
    "        return super().default(obj)\n",
    "\n",
    "metadata = []\n",
    "\n",
    "# Parcourir les fichiers dans le répertoire d'images\n",
    "for filename in os.listdir(\"images\"):\n",
    "    if filename.endswith('.jpg') or filename.endswith('.jpeg') or filename.endswith('.png'):\n",
    "        # Ouvrir l'image pour récupérer ses métadonnées\n",
    "        with Image.open(os.path.join(\"images\", filename)) as img:\n",
    "            # Récupérer les métadonnées de l'image\n",
    "            exif_data = img.getexif()\n",
    "            exif = {}\n",
    "            if exif_data:\n",
    "                for tag, value in exif_data.items():\n",
    "                    decoded_tag = TAGS.get(tag, tag)\n",
    "                    if isinstance(value, bytes):\n",
    "                        value = value.decode('utf-8', 'ignore')\n",
    "                    exif[decoded_tag] = value\n",
    "            metadata.append({\n",
    "                'filename': filename,\n",
    "                'width': img.width,\n",
    "                'height': img.height,\n",
    "                'format': img.format,\n",
    "                'mode': img.mode,\n",
    "                'exif': exif\n",
    "            })\n",
    "# Enregistrer les métadonnées dans un fichier JSON\n",
    "with open('metadata.json', 'w') as f:\n",
    "    json.dump(metadata, f, cls=CustomEncoder)"
   ]
  },
  {
   "cell_type": "code",
   "execution_count": null,
   "id": "42f3c9db-ce9e-4acf-b5fd-66871dc0c1d2",
   "metadata": {},
   "outputs": [],
   "source": []
  }
 ],
 "metadata": {
  "kernelspec": {
   "display_name": "Python 3 (ipykernel)",
   "language": "python",
   "name": "python3"
  },
  "language_info": {
   "codemirror_mode": {
    "name": "ipython",
    "version": 3
   },
   "file_extension": ".py",
   "mimetype": "text/x-python",
   "name": "python",
   "nbconvert_exporter": "python",
   "pygments_lexer": "ipython3",
   "version": "3.8.10"
  }
 },
 "nbformat": 4,
 "nbformat_minor": 5
}
