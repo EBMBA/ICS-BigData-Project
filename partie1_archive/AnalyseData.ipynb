{
 "cells": [
  {
   "cell_type": "code",
   "execution_count": 1,
   "id": "3430accb-1831-467c-ac96-e1c4125dd222",
   "metadata": {
    "tags": []
   },
   "outputs": [],
   "source": [
    "import os\n",
    "import json\n",
    "import random\n",
    "import pandas as pd\n",
    "\n",
    "# chemin vers le dossier contenant les fichiers JSON\n",
    "chemin = \"metadata/\"\n",
    "\n",
    "# liste de tous les fichiers JSON dans le dossier\n",
    "fichiers = [f for f in os.listdir(chemin) if f.endswith('.json')]\n",
    "\n",
    "liked = random.sample([f for f in fichiers], 10)\n",
    "# choisir au hasard 10 fichiers pour \"not_favorite\"\n",
    "not_liked_fichiers = random.sample([f for f in fichiers if f not in liked], 10)\n",
    "\n",
    "# dictionnaire pour stocker les données\n",
    "donnees = {\n",
    "    \"favorite\": {\n",
    "        \"family\": [], \n",
    "        \"location\": [], \n",
    "        \"dominated_colors_name\": []\n",
    "    },\n",
    "    \"not_favorite\": {\n",
    "        \"family\": [], \n",
    "        \"location\": [], \n",
    "        \"dominated_colors_name\": []\n",
    "    }\n",
    "}\n",
    "\n",
    "# extraire les données des fichiers choisis\n",
    "for fichier in liked:\n",
    "    chemin_fichier = os.path.join(chemin, fichier)\n",
    "    with open(chemin_fichier) as f:\n",
    "        donnees_fichier = json.load(f)\n",
    "        if \"family\" in donnees_fichier and donnees_fichier[\"family\"]:\n",
    "            donnees[\"favorite\"][\"family\"].append(donnees_fichier[\"family\"])\n",
    "        if \"location\" in donnees_fichier and donnees_fichier[\"location\"]:\n",
    "            donnees[\"favorite\"][\"location\"].append(donnees_fichier[\"location\"])\n",
    "        if \"dominated_colors_name\" in donnees_fichier and donnees_fichier[\"dominated_colors_name\"]:\n",
    "            donnees[\"favorite\"][\"dominated_colors_name\"].extend(donnees_fichier[\"dominated_colors_name\"])\n",
    "\n",
    "for fichier in not_liked_fichiers:\n",
    "    chemin_fichier = os.path.join(chemin, fichier)\n",
    "    with open(chemin_fichier) as f:\n",
    "        donnees_fichier = json.load(f)\n",
    "        if \"family\" in donnees_fichier and donnees_fichier[\"family\"]:\n",
    "            donnees[\"not_favorite\"][\"family\"].append(donnees_fichier[\"family\"])\n",
    "        if \"location\" in donnees_fichier and donnees_fichier[\"location\"]:\n",
    "            donnees[\"not_favorite\"][\"location\"].append(donnees_fichier[\"location\"])\n",
    "        if \"dominated_colors_name\" in donnees_fichier and donnees_fichier[\"dominated_colors_name\"]:\n",
    "            donnees[\"not_favorite\"][\"dominated_colors_name\"].extend(donnees_fichier[\"dominated_colors_name\"])\n",
    "\n",
    "# encapsuler les données dans un dictionnaire avec la clé \"user\"\n",
    "user_data = {\"user\": {\"id\": 1, \"preferences\": donnees}}\n",
    "\n",
    "# enregistrer les données dans un fichier JSON\n",
    "with open('user_data.json', 'w') as f:\n",
    "    json.dump(user_data, f)\n",
    "\n"
   ]
  },
  {
   "cell_type": "code",
   "execution_count": null,
   "id": "a27e3f04-e6f3-41a2-b2ca-1c33c9be6120",
   "metadata": {},
   "outputs": [],
   "source": []
  }
 ],
 "metadata": {
  "kernelspec": {
   "display_name": "Python 3.8.10 64-bit",
   "language": "python",
   "name": "python3"
  },
  "language_info": {
   "codemirror_mode": {
    "name": "ipython",
    "version": 3
   },
   "file_extension": ".py",
   "mimetype": "text/x-python",
   "name": "python",
   "nbconvert_exporter": "python",
   "pygments_lexer": "ipython3",
   "version": "3.8.10"
  },
  "vscode": {
   "interpreter": {
    "hash": "31f2aee4e71d21fbe5cf8b01ff0e069b9275f58929596ceb00d14d90e3e16cd6"
   }
  }
 },
 "nbformat": 4,
 "nbformat_minor": 5
}
